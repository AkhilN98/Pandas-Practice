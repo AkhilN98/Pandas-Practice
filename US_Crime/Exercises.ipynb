{
 "cells": [
  {
   "cell_type": "markdown",
   "metadata": {},
   "source": [
    "# United States - Crime Rates - 1960 - 2014"
   ]
  },
  {
   "cell_type": "markdown",
   "metadata": {},
   "source": [
    "### Introduction:\n",
    "\n",
    "This time you will create a data \n",
    "\n",
    "Special thanks to: https://github.com/justmarkham for sharing the dataset and materials.\n",
    "\n",
    "### Step 1. Import the necessary libraries"
   ]
  },
  {
   "cell_type": "code",
   "execution_count": 59,
   "metadata": {
    "collapsed": false,
    "jupyter": {
     "outputs_hidden": false
    }
   },
   "outputs": [
    {
     "data": {
      "text/html": [
       "        <script type=\"text/javascript\">\n",
       "        window.PlotlyConfig = {MathJaxConfig: 'local'};\n",
       "        if (window.MathJax) {MathJax.Hub.Config({SVG: {font: \"STIX-Web\"}});}\n",
       "        if (typeof require !== 'undefined') {\n",
       "        require.undef(\"plotly\");\n",
       "        requirejs.config({\n",
       "            paths: {\n",
       "                'plotly': ['https://cdn.plot.ly/plotly-latest.min']\n",
       "            }\n",
       "        });\n",
       "        require(['plotly'], function(Plotly) {\n",
       "            window._Plotly = Plotly;\n",
       "        });\n",
       "        }\n",
       "        </script>\n",
       "        "
      ]
     },
     "metadata": {},
     "output_type": "display_data"
    }
   ],
   "source": [
    "import pandas as pd\n",
    "import matplotlib.pyplot as plt\n",
    "import seaborn as sns\n",
    "sns.set_style('whitegrid')\n",
    "%matplotlib inline\n",
    "\n",
    "# Optional Plotly Method Imports\n",
    "import plotly\n",
    "import cufflinks as cf\n",
    "cf.go_offline()"
   ]
  },
  {
   "cell_type": "markdown",
   "metadata": {},
   "source": [
    "### Step 2. Import the dataset from this [address](https://raw.githubusercontent.com/guipsamora/pandas_exercises/master/04_Apply/US_Crime_Rates/US_Crime_Rates_1960_2014.csv). "
   ]
  },
  {
   "cell_type": "code",
   "execution_count": 2,
   "metadata": {},
   "outputs": [],
   "source": [
    "url = 'https://raw.githubusercontent.com/guipsamora/pandas_exercises/master/04_Apply/US_Crime_Rates/US_Crime_Rates_1960_2014.csv'\n",
    "df = pd.read_csv(url)"
   ]
  },
  {
   "cell_type": "markdown",
   "metadata": {},
   "source": [
    "### Step 3. Assign it to a variable called crime."
   ]
  },
  {
   "cell_type": "code",
   "execution_count": 3,
   "metadata": {
    "collapsed": false,
    "jupyter": {
     "outputs_hidden": false
    }
   },
   "outputs": [],
   "source": [
    "crime = df"
   ]
  },
  {
   "cell_type": "markdown",
   "metadata": {},
   "source": [
    "### Step 4. What is the type of the columns?"
   ]
  },
  {
   "cell_type": "code",
   "execution_count": 5,
   "metadata": {
    "collapsed": false,
    "jupyter": {
     "outputs_hidden": false
    }
   },
   "outputs": [
    {
     "name": "stdout",
     "output_type": "stream",
     "text": [
      "<class 'pandas.core.frame.DataFrame'>\n",
      "RangeIndex: 55 entries, 0 to 54\n",
      "Data columns (total 12 columns):\n",
      " #   Column              Non-Null Count  Dtype\n",
      "---  ------              --------------  -----\n",
      " 0   Year                55 non-null     int64\n",
      " 1   Population          55 non-null     int64\n",
      " 2   Total               55 non-null     int64\n",
      " 3   Violent             55 non-null     int64\n",
      " 4   Property            55 non-null     int64\n",
      " 5   Murder              55 non-null     int64\n",
      " 6   Forcible_Rape       55 non-null     int64\n",
      " 7   Robbery             55 non-null     int64\n",
      " 8   Aggravated_assault  55 non-null     int64\n",
      " 9   Burglary            55 non-null     int64\n",
      " 10  Larceny_Theft       55 non-null     int64\n",
      " 11  Vehicle_Theft       55 non-null     int64\n",
      "dtypes: int64(12)\n",
      "memory usage: 5.3 KB\n"
     ]
    }
   ],
   "source": [
    "crime.info()"
   ]
  },
  {
   "cell_type": "markdown",
   "metadata": {},
   "source": [
    "##### Have you noticed that the type of Year is int64. But pandas has a different type to work with Time Series. Let's see it now.\n",
    "\n",
    "### Step 5. Convert the type of the column Year to datetime64"
   ]
  },
  {
   "cell_type": "code",
   "execution_count": 6,
   "metadata": {
    "collapsed": false,
    "jupyter": {
     "outputs_hidden": false
    }
   },
   "outputs": [],
   "source": [
    "crime['dt_Year'] = pd.to_datetime(crime['Year'], format = '%Y')"
   ]
  },
  {
   "cell_type": "code",
   "execution_count": 7,
   "metadata": {},
   "outputs": [
    {
     "data": {
      "text/html": [
       "<div>\n",
       "<style scoped>\n",
       "    .dataframe tbody tr th:only-of-type {\n",
       "        vertical-align: middle;\n",
       "    }\n",
       "\n",
       "    .dataframe tbody tr th {\n",
       "        vertical-align: top;\n",
       "    }\n",
       "\n",
       "    .dataframe thead th {\n",
       "        text-align: right;\n",
       "    }\n",
       "</style>\n",
       "<table border=\"1\" class=\"dataframe\">\n",
       "  <thead>\n",
       "    <tr style=\"text-align: right;\">\n",
       "      <th></th>\n",
       "      <th>Year</th>\n",
       "      <th>Population</th>\n",
       "      <th>Total</th>\n",
       "      <th>Violent</th>\n",
       "      <th>Property</th>\n",
       "      <th>Murder</th>\n",
       "      <th>Forcible_Rape</th>\n",
       "      <th>Robbery</th>\n",
       "      <th>Aggravated_assault</th>\n",
       "      <th>Burglary</th>\n",
       "      <th>Larceny_Theft</th>\n",
       "      <th>Vehicle_Theft</th>\n",
       "      <th>dt_Year</th>\n",
       "    </tr>\n",
       "  </thead>\n",
       "  <tbody>\n",
       "    <tr>\n",
       "      <th>0</th>\n",
       "      <td>1960</td>\n",
       "      <td>179323175</td>\n",
       "      <td>3384200</td>\n",
       "      <td>288460</td>\n",
       "      <td>3095700</td>\n",
       "      <td>9110</td>\n",
       "      <td>17190</td>\n",
       "      <td>107840</td>\n",
       "      <td>154320</td>\n",
       "      <td>912100</td>\n",
       "      <td>1855400</td>\n",
       "      <td>328200</td>\n",
       "      <td>1960-01-01</td>\n",
       "    </tr>\n",
       "    <tr>\n",
       "      <th>1</th>\n",
       "      <td>1961</td>\n",
       "      <td>182992000</td>\n",
       "      <td>3488000</td>\n",
       "      <td>289390</td>\n",
       "      <td>3198600</td>\n",
       "      <td>8740</td>\n",
       "      <td>17220</td>\n",
       "      <td>106670</td>\n",
       "      <td>156760</td>\n",
       "      <td>949600</td>\n",
       "      <td>1913000</td>\n",
       "      <td>336000</td>\n",
       "      <td>1961-01-01</td>\n",
       "    </tr>\n",
       "    <tr>\n",
       "      <th>2</th>\n",
       "      <td>1962</td>\n",
       "      <td>185771000</td>\n",
       "      <td>3752200</td>\n",
       "      <td>301510</td>\n",
       "      <td>3450700</td>\n",
       "      <td>8530</td>\n",
       "      <td>17550</td>\n",
       "      <td>110860</td>\n",
       "      <td>164570</td>\n",
       "      <td>994300</td>\n",
       "      <td>2089600</td>\n",
       "      <td>366800</td>\n",
       "      <td>1962-01-01</td>\n",
       "    </tr>\n",
       "    <tr>\n",
       "      <th>3</th>\n",
       "      <td>1963</td>\n",
       "      <td>188483000</td>\n",
       "      <td>4109500</td>\n",
       "      <td>316970</td>\n",
       "      <td>3792500</td>\n",
       "      <td>8640</td>\n",
       "      <td>17650</td>\n",
       "      <td>116470</td>\n",
       "      <td>174210</td>\n",
       "      <td>1086400</td>\n",
       "      <td>2297800</td>\n",
       "      <td>408300</td>\n",
       "      <td>1963-01-01</td>\n",
       "    </tr>\n",
       "    <tr>\n",
       "      <th>4</th>\n",
       "      <td>1964</td>\n",
       "      <td>191141000</td>\n",
       "      <td>4564600</td>\n",
       "      <td>364220</td>\n",
       "      <td>4200400</td>\n",
       "      <td>9360</td>\n",
       "      <td>21420</td>\n",
       "      <td>130390</td>\n",
       "      <td>203050</td>\n",
       "      <td>1213200</td>\n",
       "      <td>2514400</td>\n",
       "      <td>472800</td>\n",
       "      <td>1964-01-01</td>\n",
       "    </tr>\n",
       "  </tbody>\n",
       "</table>\n",
       "</div>"
      ],
      "text/plain": [
       "   Year  Population    Total  Violent  Property  Murder  Forcible_Rape  \\\n",
       "0  1960   179323175  3384200   288460   3095700    9110          17190   \n",
       "1  1961   182992000  3488000   289390   3198600    8740          17220   \n",
       "2  1962   185771000  3752200   301510   3450700    8530          17550   \n",
       "3  1963   188483000  4109500   316970   3792500    8640          17650   \n",
       "4  1964   191141000  4564600   364220   4200400    9360          21420   \n",
       "\n",
       "   Robbery  Aggravated_assault  Burglary  Larceny_Theft  Vehicle_Theft  \\\n",
       "0   107840              154320    912100        1855400         328200   \n",
       "1   106670              156760    949600        1913000         336000   \n",
       "2   110860              164570    994300        2089600         366800   \n",
       "3   116470              174210   1086400        2297800         408300   \n",
       "4   130390              203050   1213200        2514400         472800   \n",
       "\n",
       "     dt_Year  \n",
       "0 1960-01-01  \n",
       "1 1961-01-01  \n",
       "2 1962-01-01  \n",
       "3 1963-01-01  \n",
       "4 1964-01-01  "
      ]
     },
     "execution_count": 7,
     "metadata": {},
     "output_type": "execute_result"
    }
   ],
   "source": [
    "crime.head()"
   ]
  },
  {
   "cell_type": "markdown",
   "metadata": {},
   "source": [
    "### Step 6. Set the Year column as the index of the dataframe"
   ]
  },
  {
   "cell_type": "code",
   "execution_count": 8,
   "metadata": {
    "collapsed": false,
    "jupyter": {
     "outputs_hidden": false
    }
   },
   "outputs": [
    {
     "data": {
      "text/html": [
       "<div>\n",
       "<style scoped>\n",
       "    .dataframe tbody tr th:only-of-type {\n",
       "        vertical-align: middle;\n",
       "    }\n",
       "\n",
       "    .dataframe tbody tr th {\n",
       "        vertical-align: top;\n",
       "    }\n",
       "\n",
       "    .dataframe thead th {\n",
       "        text-align: right;\n",
       "    }\n",
       "</style>\n",
       "<table border=\"1\" class=\"dataframe\">\n",
       "  <thead>\n",
       "    <tr style=\"text-align: right;\">\n",
       "      <th></th>\n",
       "      <th>Year</th>\n",
       "      <th>Population</th>\n",
       "      <th>Total</th>\n",
       "      <th>Violent</th>\n",
       "      <th>Property</th>\n",
       "      <th>Murder</th>\n",
       "      <th>Forcible_Rape</th>\n",
       "      <th>Robbery</th>\n",
       "      <th>Aggravated_assault</th>\n",
       "      <th>Burglary</th>\n",
       "      <th>Larceny_Theft</th>\n",
       "      <th>Vehicle_Theft</th>\n",
       "    </tr>\n",
       "    <tr>\n",
       "      <th>dt_Year</th>\n",
       "      <th></th>\n",
       "      <th></th>\n",
       "      <th></th>\n",
       "      <th></th>\n",
       "      <th></th>\n",
       "      <th></th>\n",
       "      <th></th>\n",
       "      <th></th>\n",
       "      <th></th>\n",
       "      <th></th>\n",
       "      <th></th>\n",
       "      <th></th>\n",
       "    </tr>\n",
       "  </thead>\n",
       "  <tbody>\n",
       "    <tr>\n",
       "      <th>1960-01-01</th>\n",
       "      <td>1960</td>\n",
       "      <td>179323175</td>\n",
       "      <td>3384200</td>\n",
       "      <td>288460</td>\n",
       "      <td>3095700</td>\n",
       "      <td>9110</td>\n",
       "      <td>17190</td>\n",
       "      <td>107840</td>\n",
       "      <td>154320</td>\n",
       "      <td>912100</td>\n",
       "      <td>1855400</td>\n",
       "      <td>328200</td>\n",
       "    </tr>\n",
       "    <tr>\n",
       "      <th>1961-01-01</th>\n",
       "      <td>1961</td>\n",
       "      <td>182992000</td>\n",
       "      <td>3488000</td>\n",
       "      <td>289390</td>\n",
       "      <td>3198600</td>\n",
       "      <td>8740</td>\n",
       "      <td>17220</td>\n",
       "      <td>106670</td>\n",
       "      <td>156760</td>\n",
       "      <td>949600</td>\n",
       "      <td>1913000</td>\n",
       "      <td>336000</td>\n",
       "    </tr>\n",
       "    <tr>\n",
       "      <th>1962-01-01</th>\n",
       "      <td>1962</td>\n",
       "      <td>185771000</td>\n",
       "      <td>3752200</td>\n",
       "      <td>301510</td>\n",
       "      <td>3450700</td>\n",
       "      <td>8530</td>\n",
       "      <td>17550</td>\n",
       "      <td>110860</td>\n",
       "      <td>164570</td>\n",
       "      <td>994300</td>\n",
       "      <td>2089600</td>\n",
       "      <td>366800</td>\n",
       "    </tr>\n",
       "    <tr>\n",
       "      <th>1963-01-01</th>\n",
       "      <td>1963</td>\n",
       "      <td>188483000</td>\n",
       "      <td>4109500</td>\n",
       "      <td>316970</td>\n",
       "      <td>3792500</td>\n",
       "      <td>8640</td>\n",
       "      <td>17650</td>\n",
       "      <td>116470</td>\n",
       "      <td>174210</td>\n",
       "      <td>1086400</td>\n",
       "      <td>2297800</td>\n",
       "      <td>408300</td>\n",
       "    </tr>\n",
       "    <tr>\n",
       "      <th>1964-01-01</th>\n",
       "      <td>1964</td>\n",
       "      <td>191141000</td>\n",
       "      <td>4564600</td>\n",
       "      <td>364220</td>\n",
       "      <td>4200400</td>\n",
       "      <td>9360</td>\n",
       "      <td>21420</td>\n",
       "      <td>130390</td>\n",
       "      <td>203050</td>\n",
       "      <td>1213200</td>\n",
       "      <td>2514400</td>\n",
       "      <td>472800</td>\n",
       "    </tr>\n",
       "    <tr>\n",
       "      <th>1965-01-01</th>\n",
       "      <td>1965</td>\n",
       "      <td>193526000</td>\n",
       "      <td>4739400</td>\n",
       "      <td>387390</td>\n",
       "      <td>4352000</td>\n",
       "      <td>9960</td>\n",
       "      <td>23410</td>\n",
       "      <td>138690</td>\n",
       "      <td>215330</td>\n",
       "      <td>1282500</td>\n",
       "      <td>2572600</td>\n",
       "      <td>496900</td>\n",
       "    </tr>\n",
       "    <tr>\n",
       "      <th>1966-01-01</th>\n",
       "      <td>1966</td>\n",
       "      <td>195576000</td>\n",
       "      <td>5223500</td>\n",
       "      <td>430180</td>\n",
       "      <td>4793300</td>\n",
       "      <td>11040</td>\n",
       "      <td>25820</td>\n",
       "      <td>157990</td>\n",
       "      <td>235330</td>\n",
       "      <td>1410100</td>\n",
       "      <td>2822000</td>\n",
       "      <td>561200</td>\n",
       "    </tr>\n",
       "    <tr>\n",
       "      <th>1967-01-01</th>\n",
       "      <td>1967</td>\n",
       "      <td>197457000</td>\n",
       "      <td>5903400</td>\n",
       "      <td>499930</td>\n",
       "      <td>5403500</td>\n",
       "      <td>12240</td>\n",
       "      <td>27620</td>\n",
       "      <td>202910</td>\n",
       "      <td>257160</td>\n",
       "      <td>1632100</td>\n",
       "      <td>3111600</td>\n",
       "      <td>659800</td>\n",
       "    </tr>\n",
       "    <tr>\n",
       "      <th>1968-01-01</th>\n",
       "      <td>1968</td>\n",
       "      <td>199399000</td>\n",
       "      <td>6720200</td>\n",
       "      <td>595010</td>\n",
       "      <td>6125200</td>\n",
       "      <td>13800</td>\n",
       "      <td>31670</td>\n",
       "      <td>262840</td>\n",
       "      <td>286700</td>\n",
       "      <td>1858900</td>\n",
       "      <td>3482700</td>\n",
       "      <td>783600</td>\n",
       "    </tr>\n",
       "    <tr>\n",
       "      <th>1969-01-01</th>\n",
       "      <td>1969</td>\n",
       "      <td>201385000</td>\n",
       "      <td>7410900</td>\n",
       "      <td>661870</td>\n",
       "      <td>6749000</td>\n",
       "      <td>14760</td>\n",
       "      <td>37170</td>\n",
       "      <td>298850</td>\n",
       "      <td>311090</td>\n",
       "      <td>1981900</td>\n",
       "      <td>3888600</td>\n",
       "      <td>878500</td>\n",
       "    </tr>\n",
       "    <tr>\n",
       "      <th>1970-01-01</th>\n",
       "      <td>1970</td>\n",
       "      <td>203235298</td>\n",
       "      <td>8098000</td>\n",
       "      <td>738820</td>\n",
       "      <td>7359200</td>\n",
       "      <td>16000</td>\n",
       "      <td>37990</td>\n",
       "      <td>349860</td>\n",
       "      <td>334970</td>\n",
       "      <td>2205000</td>\n",
       "      <td>4225800</td>\n",
       "      <td>928400</td>\n",
       "    </tr>\n",
       "    <tr>\n",
       "      <th>1971-01-01</th>\n",
       "      <td>1971</td>\n",
       "      <td>206212000</td>\n",
       "      <td>8588200</td>\n",
       "      <td>816500</td>\n",
       "      <td>7771700</td>\n",
       "      <td>17780</td>\n",
       "      <td>42260</td>\n",
       "      <td>387700</td>\n",
       "      <td>368760</td>\n",
       "      <td>2399300</td>\n",
       "      <td>4424200</td>\n",
       "      <td>948200</td>\n",
       "    </tr>\n",
       "    <tr>\n",
       "      <th>1972-01-01</th>\n",
       "      <td>1972</td>\n",
       "      <td>208230000</td>\n",
       "      <td>8248800</td>\n",
       "      <td>834900</td>\n",
       "      <td>7413900</td>\n",
       "      <td>18670</td>\n",
       "      <td>46850</td>\n",
       "      <td>376290</td>\n",
       "      <td>393090</td>\n",
       "      <td>2375500</td>\n",
       "      <td>4151200</td>\n",
       "      <td>887200</td>\n",
       "    </tr>\n",
       "    <tr>\n",
       "      <th>1973-01-01</th>\n",
       "      <td>1973</td>\n",
       "      <td>209851000</td>\n",
       "      <td>8718100</td>\n",
       "      <td>875910</td>\n",
       "      <td>7842200</td>\n",
       "      <td>19640</td>\n",
       "      <td>51400</td>\n",
       "      <td>384220</td>\n",
       "      <td>420650</td>\n",
       "      <td>2565500</td>\n",
       "      <td>4347900</td>\n",
       "      <td>928800</td>\n",
       "    </tr>\n",
       "    <tr>\n",
       "      <th>1974-01-01</th>\n",
       "      <td>1974</td>\n",
       "      <td>211392000</td>\n",
       "      <td>10253400</td>\n",
       "      <td>974720</td>\n",
       "      <td>9278700</td>\n",
       "      <td>20710</td>\n",
       "      <td>55400</td>\n",
       "      <td>442400</td>\n",
       "      <td>456210</td>\n",
       "      <td>3039200</td>\n",
       "      <td>5262500</td>\n",
       "      <td>977100</td>\n",
       "    </tr>\n",
       "    <tr>\n",
       "      <th>1975-01-01</th>\n",
       "      <td>1975</td>\n",
       "      <td>213124000</td>\n",
       "      <td>11292400</td>\n",
       "      <td>1039710</td>\n",
       "      <td>10252700</td>\n",
       "      <td>20510</td>\n",
       "      <td>56090</td>\n",
       "      <td>470500</td>\n",
       "      <td>492620</td>\n",
       "      <td>3265300</td>\n",
       "      <td>5977700</td>\n",
       "      <td>1009600</td>\n",
       "    </tr>\n",
       "    <tr>\n",
       "      <th>1976-01-01</th>\n",
       "      <td>1976</td>\n",
       "      <td>214659000</td>\n",
       "      <td>11349700</td>\n",
       "      <td>1004210</td>\n",
       "      <td>10345500</td>\n",
       "      <td>18780</td>\n",
       "      <td>57080</td>\n",
       "      <td>427810</td>\n",
       "      <td>500530</td>\n",
       "      <td>3108700</td>\n",
       "      <td>6270800</td>\n",
       "      <td>966000</td>\n",
       "    </tr>\n",
       "    <tr>\n",
       "      <th>1977-01-01</th>\n",
       "      <td>1977</td>\n",
       "      <td>216332000</td>\n",
       "      <td>10984500</td>\n",
       "      <td>1029580</td>\n",
       "      <td>9955000</td>\n",
       "      <td>19120</td>\n",
       "      <td>63500</td>\n",
       "      <td>412610</td>\n",
       "      <td>534350</td>\n",
       "      <td>3071500</td>\n",
       "      <td>5905700</td>\n",
       "      <td>977700</td>\n",
       "    </tr>\n",
       "    <tr>\n",
       "      <th>1978-01-01</th>\n",
       "      <td>1978</td>\n",
       "      <td>218059000</td>\n",
       "      <td>11209000</td>\n",
       "      <td>1085550</td>\n",
       "      <td>10123400</td>\n",
       "      <td>19560</td>\n",
       "      <td>67610</td>\n",
       "      <td>426930</td>\n",
       "      <td>571460</td>\n",
       "      <td>3128300</td>\n",
       "      <td>5991000</td>\n",
       "      <td>1004100</td>\n",
       "    </tr>\n",
       "    <tr>\n",
       "      <th>1979-01-01</th>\n",
       "      <td>1979</td>\n",
       "      <td>220099000</td>\n",
       "      <td>12249500</td>\n",
       "      <td>1208030</td>\n",
       "      <td>11041500</td>\n",
       "      <td>21460</td>\n",
       "      <td>76390</td>\n",
       "      <td>480700</td>\n",
       "      <td>629480</td>\n",
       "      <td>3327700</td>\n",
       "      <td>6601000</td>\n",
       "      <td>1112800</td>\n",
       "    </tr>\n",
       "    <tr>\n",
       "      <th>1980-01-01</th>\n",
       "      <td>1980</td>\n",
       "      <td>225349264</td>\n",
       "      <td>13408300</td>\n",
       "      <td>1344520</td>\n",
       "      <td>12063700</td>\n",
       "      <td>23040</td>\n",
       "      <td>82990</td>\n",
       "      <td>565840</td>\n",
       "      <td>672650</td>\n",
       "      <td>3795200</td>\n",
       "      <td>7136900</td>\n",
       "      <td>1131700</td>\n",
       "    </tr>\n",
       "    <tr>\n",
       "      <th>1981-01-01</th>\n",
       "      <td>1981</td>\n",
       "      <td>229146000</td>\n",
       "      <td>13423800</td>\n",
       "      <td>1361820</td>\n",
       "      <td>12061900</td>\n",
       "      <td>22520</td>\n",
       "      <td>82500</td>\n",
       "      <td>592910</td>\n",
       "      <td>663900</td>\n",
       "      <td>3779700</td>\n",
       "      <td>7194400</td>\n",
       "      <td>1087800</td>\n",
       "    </tr>\n",
       "    <tr>\n",
       "      <th>1982-01-01</th>\n",
       "      <td>1982</td>\n",
       "      <td>231534000</td>\n",
       "      <td>12974400</td>\n",
       "      <td>1322390</td>\n",
       "      <td>11652000</td>\n",
       "      <td>21010</td>\n",
       "      <td>78770</td>\n",
       "      <td>553130</td>\n",
       "      <td>669480</td>\n",
       "      <td>3447100</td>\n",
       "      <td>7142500</td>\n",
       "      <td>1062400</td>\n",
       "    </tr>\n",
       "    <tr>\n",
       "      <th>1983-01-01</th>\n",
       "      <td>1983</td>\n",
       "      <td>233981000</td>\n",
       "      <td>12108600</td>\n",
       "      <td>1258090</td>\n",
       "      <td>10850500</td>\n",
       "      <td>19310</td>\n",
       "      <td>78920</td>\n",
       "      <td>506570</td>\n",
       "      <td>653290</td>\n",
       "      <td>3129900</td>\n",
       "      <td>6712800</td>\n",
       "      <td>1007900</td>\n",
       "    </tr>\n",
       "    <tr>\n",
       "      <th>1984-01-01</th>\n",
       "      <td>1984</td>\n",
       "      <td>236158000</td>\n",
       "      <td>11881800</td>\n",
       "      <td>1273280</td>\n",
       "      <td>10608500</td>\n",
       "      <td>18690</td>\n",
       "      <td>84230</td>\n",
       "      <td>485010</td>\n",
       "      <td>685350</td>\n",
       "      <td>2984400</td>\n",
       "      <td>6591900</td>\n",
       "      <td>1032200</td>\n",
       "    </tr>\n",
       "    <tr>\n",
       "      <th>1985-01-01</th>\n",
       "      <td>1985</td>\n",
       "      <td>238740000</td>\n",
       "      <td>12431400</td>\n",
       "      <td>1328800</td>\n",
       "      <td>11102600</td>\n",
       "      <td>18980</td>\n",
       "      <td>88670</td>\n",
       "      <td>497870</td>\n",
       "      <td>723250</td>\n",
       "      <td>3073300</td>\n",
       "      <td>6926400</td>\n",
       "      <td>1102900</td>\n",
       "    </tr>\n",
       "    <tr>\n",
       "      <th>1986-01-01</th>\n",
       "      <td>1986</td>\n",
       "      <td>240132887</td>\n",
       "      <td>13211869</td>\n",
       "      <td>1489169</td>\n",
       "      <td>11722700</td>\n",
       "      <td>20613</td>\n",
       "      <td>91459</td>\n",
       "      <td>542775</td>\n",
       "      <td>834322</td>\n",
       "      <td>3241410</td>\n",
       "      <td>7257153</td>\n",
       "      <td>1224137</td>\n",
       "    </tr>\n",
       "    <tr>\n",
       "      <th>1987-01-01</th>\n",
       "      <td>1987</td>\n",
       "      <td>242282918</td>\n",
       "      <td>13508700</td>\n",
       "      <td>1483999</td>\n",
       "      <td>12024700</td>\n",
       "      <td>20096</td>\n",
       "      <td>91110</td>\n",
       "      <td>517704</td>\n",
       "      <td>855088</td>\n",
       "      <td>3236184</td>\n",
       "      <td>7499900</td>\n",
       "      <td>1288674</td>\n",
       "    </tr>\n",
       "    <tr>\n",
       "      <th>1988-01-01</th>\n",
       "      <td>1988</td>\n",
       "      <td>245807000</td>\n",
       "      <td>13923100</td>\n",
       "      <td>1566220</td>\n",
       "      <td>12356900</td>\n",
       "      <td>20680</td>\n",
       "      <td>92490</td>\n",
       "      <td>542970</td>\n",
       "      <td>910090</td>\n",
       "      <td>3218100</td>\n",
       "      <td>7705900</td>\n",
       "      <td>1432900</td>\n",
       "    </tr>\n",
       "    <tr>\n",
       "      <th>1989-01-01</th>\n",
       "      <td>1989</td>\n",
       "      <td>248239000</td>\n",
       "      <td>14251400</td>\n",
       "      <td>1646040</td>\n",
       "      <td>12605400</td>\n",
       "      <td>21500</td>\n",
       "      <td>94500</td>\n",
       "      <td>578330</td>\n",
       "      <td>951710</td>\n",
       "      <td>3168200</td>\n",
       "      <td>7872400</td>\n",
       "      <td>1564800</td>\n",
       "    </tr>\n",
       "    <tr>\n",
       "      <th>1990-01-01</th>\n",
       "      <td>1990</td>\n",
       "      <td>248709873</td>\n",
       "      <td>14475600</td>\n",
       "      <td>1820130</td>\n",
       "      <td>12655500</td>\n",
       "      <td>23440</td>\n",
       "      <td>102560</td>\n",
       "      <td>639270</td>\n",
       "      <td>1054860</td>\n",
       "      <td>3073900</td>\n",
       "      <td>7945700</td>\n",
       "      <td>1635900</td>\n",
       "    </tr>\n",
       "    <tr>\n",
       "      <th>1991-01-01</th>\n",
       "      <td>1991</td>\n",
       "      <td>252177000</td>\n",
       "      <td>14872900</td>\n",
       "      <td>1911770</td>\n",
       "      <td>12961100</td>\n",
       "      <td>24700</td>\n",
       "      <td>106590</td>\n",
       "      <td>687730</td>\n",
       "      <td>1092740</td>\n",
       "      <td>3157200</td>\n",
       "      <td>8142200</td>\n",
       "      <td>1661700</td>\n",
       "    </tr>\n",
       "    <tr>\n",
       "      <th>1992-01-01</th>\n",
       "      <td>1992</td>\n",
       "      <td>255082000</td>\n",
       "      <td>14438200</td>\n",
       "      <td>1932270</td>\n",
       "      <td>12505900</td>\n",
       "      <td>23760</td>\n",
       "      <td>109060</td>\n",
       "      <td>672480</td>\n",
       "      <td>1126970</td>\n",
       "      <td>2979900</td>\n",
       "      <td>7915200</td>\n",
       "      <td>1610800</td>\n",
       "    </tr>\n",
       "    <tr>\n",
       "      <th>1993-01-01</th>\n",
       "      <td>1993</td>\n",
       "      <td>257908000</td>\n",
       "      <td>14144800</td>\n",
       "      <td>1926020</td>\n",
       "      <td>12218800</td>\n",
       "      <td>24530</td>\n",
       "      <td>106010</td>\n",
       "      <td>659870</td>\n",
       "      <td>1135610</td>\n",
       "      <td>2834800</td>\n",
       "      <td>7820900</td>\n",
       "      <td>1563100</td>\n",
       "    </tr>\n",
       "    <tr>\n",
       "      <th>1994-01-01</th>\n",
       "      <td>1994</td>\n",
       "      <td>260341000</td>\n",
       "      <td>13989500</td>\n",
       "      <td>1857670</td>\n",
       "      <td>12131900</td>\n",
       "      <td>23330</td>\n",
       "      <td>102220</td>\n",
       "      <td>618950</td>\n",
       "      <td>1113180</td>\n",
       "      <td>2712800</td>\n",
       "      <td>7879800</td>\n",
       "      <td>1539300</td>\n",
       "    </tr>\n",
       "    <tr>\n",
       "      <th>1995-01-01</th>\n",
       "      <td>1995</td>\n",
       "      <td>262755000</td>\n",
       "      <td>13862700</td>\n",
       "      <td>1798790</td>\n",
       "      <td>12063900</td>\n",
       "      <td>21610</td>\n",
       "      <td>97470</td>\n",
       "      <td>580510</td>\n",
       "      <td>1099210</td>\n",
       "      <td>2593800</td>\n",
       "      <td>7997700</td>\n",
       "      <td>1472400</td>\n",
       "    </tr>\n",
       "    <tr>\n",
       "      <th>1996-01-01</th>\n",
       "      <td>1996</td>\n",
       "      <td>265228572</td>\n",
       "      <td>13493863</td>\n",
       "      <td>1688540</td>\n",
       "      <td>11805300</td>\n",
       "      <td>19650</td>\n",
       "      <td>96250</td>\n",
       "      <td>535590</td>\n",
       "      <td>1037050</td>\n",
       "      <td>2506400</td>\n",
       "      <td>7904700</td>\n",
       "      <td>1394200</td>\n",
       "    </tr>\n",
       "    <tr>\n",
       "      <th>1997-01-01</th>\n",
       "      <td>1997</td>\n",
       "      <td>267637000</td>\n",
       "      <td>13194571</td>\n",
       "      <td>1634770</td>\n",
       "      <td>11558175</td>\n",
       "      <td>18208</td>\n",
       "      <td>96153</td>\n",
       "      <td>498534</td>\n",
       "      <td>1023201</td>\n",
       "      <td>2460526</td>\n",
       "      <td>7743760</td>\n",
       "      <td>1354189</td>\n",
       "    </tr>\n",
       "    <tr>\n",
       "      <th>1998-01-01</th>\n",
       "      <td>1998</td>\n",
       "      <td>270296000</td>\n",
       "      <td>12475634</td>\n",
       "      <td>1531044</td>\n",
       "      <td>10944590</td>\n",
       "      <td>16914</td>\n",
       "      <td>93103</td>\n",
       "      <td>446625</td>\n",
       "      <td>974402</td>\n",
       "      <td>2329950</td>\n",
       "      <td>7373886</td>\n",
       "      <td>1240754</td>\n",
       "    </tr>\n",
       "    <tr>\n",
       "      <th>1999-01-01</th>\n",
       "      <td>1999</td>\n",
       "      <td>272690813</td>\n",
       "      <td>11634378</td>\n",
       "      <td>1426044</td>\n",
       "      <td>10208334</td>\n",
       "      <td>15522</td>\n",
       "      <td>89411</td>\n",
       "      <td>409371</td>\n",
       "      <td>911740</td>\n",
       "      <td>2100739</td>\n",
       "      <td>6955520</td>\n",
       "      <td>1152075</td>\n",
       "    </tr>\n",
       "    <tr>\n",
       "      <th>2000-01-01</th>\n",
       "      <td>2000</td>\n",
       "      <td>281421906</td>\n",
       "      <td>11608072</td>\n",
       "      <td>1425486</td>\n",
       "      <td>10182586</td>\n",
       "      <td>15586</td>\n",
       "      <td>90178</td>\n",
       "      <td>408016</td>\n",
       "      <td>911706</td>\n",
       "      <td>2050992</td>\n",
       "      <td>6971590</td>\n",
       "      <td>1160002</td>\n",
       "    </tr>\n",
       "    <tr>\n",
       "      <th>2001-01-01</th>\n",
       "      <td>2001</td>\n",
       "      <td>285317559</td>\n",
       "      <td>11876669</td>\n",
       "      <td>1439480</td>\n",
       "      <td>10437480</td>\n",
       "      <td>16037</td>\n",
       "      <td>90863</td>\n",
       "      <td>423557</td>\n",
       "      <td>909023</td>\n",
       "      <td>2116531</td>\n",
       "      <td>7092267</td>\n",
       "      <td>1228391</td>\n",
       "    </tr>\n",
       "    <tr>\n",
       "      <th>2002-01-01</th>\n",
       "      <td>2002</td>\n",
       "      <td>287973924</td>\n",
       "      <td>11878954</td>\n",
       "      <td>1423677</td>\n",
       "      <td>10455277</td>\n",
       "      <td>16229</td>\n",
       "      <td>95235</td>\n",
       "      <td>420806</td>\n",
       "      <td>891407</td>\n",
       "      <td>2151252</td>\n",
       "      <td>7057370</td>\n",
       "      <td>1246646</td>\n",
       "    </tr>\n",
       "    <tr>\n",
       "      <th>2003-01-01</th>\n",
       "      <td>2003</td>\n",
       "      <td>290690788</td>\n",
       "      <td>11826538</td>\n",
       "      <td>1383676</td>\n",
       "      <td>10442862</td>\n",
       "      <td>16528</td>\n",
       "      <td>93883</td>\n",
       "      <td>414235</td>\n",
       "      <td>859030</td>\n",
       "      <td>2154834</td>\n",
       "      <td>7026802</td>\n",
       "      <td>1261226</td>\n",
       "    </tr>\n",
       "    <tr>\n",
       "      <th>2004-01-01</th>\n",
       "      <td>2004</td>\n",
       "      <td>293656842</td>\n",
       "      <td>11679474</td>\n",
       "      <td>1360088</td>\n",
       "      <td>10319386</td>\n",
       "      <td>16148</td>\n",
       "      <td>95089</td>\n",
       "      <td>401470</td>\n",
       "      <td>847381</td>\n",
       "      <td>2144446</td>\n",
       "      <td>6937089</td>\n",
       "      <td>1237851</td>\n",
       "    </tr>\n",
       "    <tr>\n",
       "      <th>2005-01-01</th>\n",
       "      <td>2005</td>\n",
       "      <td>296507061</td>\n",
       "      <td>11565499</td>\n",
       "      <td>1390745</td>\n",
       "      <td>10174754</td>\n",
       "      <td>16740</td>\n",
       "      <td>94347</td>\n",
       "      <td>417438</td>\n",
       "      <td>862220</td>\n",
       "      <td>2155448</td>\n",
       "      <td>6783447</td>\n",
       "      <td>1235859</td>\n",
       "    </tr>\n",
       "    <tr>\n",
       "      <th>2006-01-01</th>\n",
       "      <td>2006</td>\n",
       "      <td>299398484</td>\n",
       "      <td>11401511</td>\n",
       "      <td>1418043</td>\n",
       "      <td>9983568</td>\n",
       "      <td>17030</td>\n",
       "      <td>92757</td>\n",
       "      <td>447403</td>\n",
       "      <td>860853</td>\n",
       "      <td>2183746</td>\n",
       "      <td>6607013</td>\n",
       "      <td>1192809</td>\n",
       "    </tr>\n",
       "    <tr>\n",
       "      <th>2007-01-01</th>\n",
       "      <td>2007</td>\n",
       "      <td>301621157</td>\n",
       "      <td>11251828</td>\n",
       "      <td>1408337</td>\n",
       "      <td>9843481</td>\n",
       "      <td>16929</td>\n",
       "      <td>90427</td>\n",
       "      <td>445125</td>\n",
       "      <td>855856</td>\n",
       "      <td>2176140</td>\n",
       "      <td>6568572</td>\n",
       "      <td>1095769</td>\n",
       "    </tr>\n",
       "    <tr>\n",
       "      <th>2008-01-01</th>\n",
       "      <td>2008</td>\n",
       "      <td>304374846</td>\n",
       "      <td>11160543</td>\n",
       "      <td>1392628</td>\n",
       "      <td>9767915</td>\n",
       "      <td>16442</td>\n",
       "      <td>90479</td>\n",
       "      <td>443574</td>\n",
       "      <td>842134</td>\n",
       "      <td>2228474</td>\n",
       "      <td>6588046</td>\n",
       "      <td>958629</td>\n",
       "    </tr>\n",
       "    <tr>\n",
       "      <th>2009-01-01</th>\n",
       "      <td>2009</td>\n",
       "      <td>307006550</td>\n",
       "      <td>10762956</td>\n",
       "      <td>1325896</td>\n",
       "      <td>9337060</td>\n",
       "      <td>15399</td>\n",
       "      <td>89241</td>\n",
       "      <td>408742</td>\n",
       "      <td>812514</td>\n",
       "      <td>2203313</td>\n",
       "      <td>6338095</td>\n",
       "      <td>795652</td>\n",
       "    </tr>\n",
       "    <tr>\n",
       "      <th>2010-01-01</th>\n",
       "      <td>2010</td>\n",
       "      <td>309330219</td>\n",
       "      <td>10363873</td>\n",
       "      <td>1251248</td>\n",
       "      <td>9112625</td>\n",
       "      <td>14772</td>\n",
       "      <td>85593</td>\n",
       "      <td>369089</td>\n",
       "      <td>781844</td>\n",
       "      <td>2168457</td>\n",
       "      <td>6204601</td>\n",
       "      <td>739565</td>\n",
       "    </tr>\n",
       "    <tr>\n",
       "      <th>2011-01-01</th>\n",
       "      <td>2011</td>\n",
       "      <td>311587816</td>\n",
       "      <td>10258774</td>\n",
       "      <td>1206031</td>\n",
       "      <td>9052743</td>\n",
       "      <td>14661</td>\n",
       "      <td>84175</td>\n",
       "      <td>354772</td>\n",
       "      <td>752423</td>\n",
       "      <td>2185140</td>\n",
       "      <td>6151095</td>\n",
       "      <td>716508</td>\n",
       "    </tr>\n",
       "    <tr>\n",
       "      <th>2012-01-01</th>\n",
       "      <td>2012</td>\n",
       "      <td>313873685</td>\n",
       "      <td>10219059</td>\n",
       "      <td>1217067</td>\n",
       "      <td>9001992</td>\n",
       "      <td>14866</td>\n",
       "      <td>85141</td>\n",
       "      <td>355051</td>\n",
       "      <td>762009</td>\n",
       "      <td>2109932</td>\n",
       "      <td>6168874</td>\n",
       "      <td>723186</td>\n",
       "    </tr>\n",
       "    <tr>\n",
       "      <th>2013-01-01</th>\n",
       "      <td>2013</td>\n",
       "      <td>316497531</td>\n",
       "      <td>9850445</td>\n",
       "      <td>1199684</td>\n",
       "      <td>8650761</td>\n",
       "      <td>14319</td>\n",
       "      <td>82109</td>\n",
       "      <td>345095</td>\n",
       "      <td>726575</td>\n",
       "      <td>1931835</td>\n",
       "      <td>6018632</td>\n",
       "      <td>700294</td>\n",
       "    </tr>\n",
       "    <tr>\n",
       "      <th>2014-01-01</th>\n",
       "      <td>2014</td>\n",
       "      <td>318857056</td>\n",
       "      <td>9475816</td>\n",
       "      <td>1197987</td>\n",
       "      <td>8277829</td>\n",
       "      <td>14249</td>\n",
       "      <td>84041</td>\n",
       "      <td>325802</td>\n",
       "      <td>741291</td>\n",
       "      <td>1729806</td>\n",
       "      <td>5858496</td>\n",
       "      <td>689527</td>\n",
       "    </tr>\n",
       "  </tbody>\n",
       "</table>\n",
       "</div>"
      ],
      "text/plain": [
       "            Year  Population     Total  Violent  Property  Murder  \\\n",
       "dt_Year                                                             \n",
       "1960-01-01  1960   179323175   3384200   288460   3095700    9110   \n",
       "1961-01-01  1961   182992000   3488000   289390   3198600    8740   \n",
       "1962-01-01  1962   185771000   3752200   301510   3450700    8530   \n",
       "1963-01-01  1963   188483000   4109500   316970   3792500    8640   \n",
       "1964-01-01  1964   191141000   4564600   364220   4200400    9360   \n",
       "1965-01-01  1965   193526000   4739400   387390   4352000    9960   \n",
       "1966-01-01  1966   195576000   5223500   430180   4793300   11040   \n",
       "1967-01-01  1967   197457000   5903400   499930   5403500   12240   \n",
       "1968-01-01  1968   199399000   6720200   595010   6125200   13800   \n",
       "1969-01-01  1969   201385000   7410900   661870   6749000   14760   \n",
       "1970-01-01  1970   203235298   8098000   738820   7359200   16000   \n",
       "1971-01-01  1971   206212000   8588200   816500   7771700   17780   \n",
       "1972-01-01  1972   208230000   8248800   834900   7413900   18670   \n",
       "1973-01-01  1973   209851000   8718100   875910   7842200   19640   \n",
       "1974-01-01  1974   211392000  10253400   974720   9278700   20710   \n",
       "1975-01-01  1975   213124000  11292400  1039710  10252700   20510   \n",
       "1976-01-01  1976   214659000  11349700  1004210  10345500   18780   \n",
       "1977-01-01  1977   216332000  10984500  1029580   9955000   19120   \n",
       "1978-01-01  1978   218059000  11209000  1085550  10123400   19560   \n",
       "1979-01-01  1979   220099000  12249500  1208030  11041500   21460   \n",
       "1980-01-01  1980   225349264  13408300  1344520  12063700   23040   \n",
       "1981-01-01  1981   229146000  13423800  1361820  12061900   22520   \n",
       "1982-01-01  1982   231534000  12974400  1322390  11652000   21010   \n",
       "1983-01-01  1983   233981000  12108600  1258090  10850500   19310   \n",
       "1984-01-01  1984   236158000  11881800  1273280  10608500   18690   \n",
       "1985-01-01  1985   238740000  12431400  1328800  11102600   18980   \n",
       "1986-01-01  1986   240132887  13211869  1489169  11722700   20613   \n",
       "1987-01-01  1987   242282918  13508700  1483999  12024700   20096   \n",
       "1988-01-01  1988   245807000  13923100  1566220  12356900   20680   \n",
       "1989-01-01  1989   248239000  14251400  1646040  12605400   21500   \n",
       "1990-01-01  1990   248709873  14475600  1820130  12655500   23440   \n",
       "1991-01-01  1991   252177000  14872900  1911770  12961100   24700   \n",
       "1992-01-01  1992   255082000  14438200  1932270  12505900   23760   \n",
       "1993-01-01  1993   257908000  14144800  1926020  12218800   24530   \n",
       "1994-01-01  1994   260341000  13989500  1857670  12131900   23330   \n",
       "1995-01-01  1995   262755000  13862700  1798790  12063900   21610   \n",
       "1996-01-01  1996   265228572  13493863  1688540  11805300   19650   \n",
       "1997-01-01  1997   267637000  13194571  1634770  11558175   18208   \n",
       "1998-01-01  1998   270296000  12475634  1531044  10944590   16914   \n",
       "1999-01-01  1999   272690813  11634378  1426044  10208334   15522   \n",
       "2000-01-01  2000   281421906  11608072  1425486  10182586   15586   \n",
       "2001-01-01  2001   285317559  11876669  1439480  10437480   16037   \n",
       "2002-01-01  2002   287973924  11878954  1423677  10455277   16229   \n",
       "2003-01-01  2003   290690788  11826538  1383676  10442862   16528   \n",
       "2004-01-01  2004   293656842  11679474  1360088  10319386   16148   \n",
       "2005-01-01  2005   296507061  11565499  1390745  10174754   16740   \n",
       "2006-01-01  2006   299398484  11401511  1418043   9983568   17030   \n",
       "2007-01-01  2007   301621157  11251828  1408337   9843481   16929   \n",
       "2008-01-01  2008   304374846  11160543  1392628   9767915   16442   \n",
       "2009-01-01  2009   307006550  10762956  1325896   9337060   15399   \n",
       "2010-01-01  2010   309330219  10363873  1251248   9112625   14772   \n",
       "2011-01-01  2011   311587816  10258774  1206031   9052743   14661   \n",
       "2012-01-01  2012   313873685  10219059  1217067   9001992   14866   \n",
       "2013-01-01  2013   316497531   9850445  1199684   8650761   14319   \n",
       "2014-01-01  2014   318857056   9475816  1197987   8277829   14249   \n",
       "\n",
       "            Forcible_Rape  Robbery  Aggravated_assault  Burglary  \\\n",
       "dt_Year                                                            \n",
       "1960-01-01          17190   107840              154320    912100   \n",
       "1961-01-01          17220   106670              156760    949600   \n",
       "1962-01-01          17550   110860              164570    994300   \n",
       "1963-01-01          17650   116470              174210   1086400   \n",
       "1964-01-01          21420   130390              203050   1213200   \n",
       "1965-01-01          23410   138690              215330   1282500   \n",
       "1966-01-01          25820   157990              235330   1410100   \n",
       "1967-01-01          27620   202910              257160   1632100   \n",
       "1968-01-01          31670   262840              286700   1858900   \n",
       "1969-01-01          37170   298850              311090   1981900   \n",
       "1970-01-01          37990   349860              334970   2205000   \n",
       "1971-01-01          42260   387700              368760   2399300   \n",
       "1972-01-01          46850   376290              393090   2375500   \n",
       "1973-01-01          51400   384220              420650   2565500   \n",
       "1974-01-01          55400   442400              456210   3039200   \n",
       "1975-01-01          56090   470500              492620   3265300   \n",
       "1976-01-01          57080   427810              500530   3108700   \n",
       "1977-01-01          63500   412610              534350   3071500   \n",
       "1978-01-01          67610   426930              571460   3128300   \n",
       "1979-01-01          76390   480700              629480   3327700   \n",
       "1980-01-01          82990   565840              672650   3795200   \n",
       "1981-01-01          82500   592910              663900   3779700   \n",
       "1982-01-01          78770   553130              669480   3447100   \n",
       "1983-01-01          78920   506570              653290   3129900   \n",
       "1984-01-01          84230   485010              685350   2984400   \n",
       "1985-01-01          88670   497870              723250   3073300   \n",
       "1986-01-01          91459   542775              834322   3241410   \n",
       "1987-01-01          91110   517704              855088   3236184   \n",
       "1988-01-01          92490   542970              910090   3218100   \n",
       "1989-01-01          94500   578330              951710   3168200   \n",
       "1990-01-01         102560   639270             1054860   3073900   \n",
       "1991-01-01         106590   687730             1092740   3157200   \n",
       "1992-01-01         109060   672480             1126970   2979900   \n",
       "1993-01-01         106010   659870             1135610   2834800   \n",
       "1994-01-01         102220   618950             1113180   2712800   \n",
       "1995-01-01          97470   580510             1099210   2593800   \n",
       "1996-01-01          96250   535590             1037050   2506400   \n",
       "1997-01-01          96153   498534             1023201   2460526   \n",
       "1998-01-01          93103   446625              974402   2329950   \n",
       "1999-01-01          89411   409371              911740   2100739   \n",
       "2000-01-01          90178   408016              911706   2050992   \n",
       "2001-01-01          90863   423557              909023   2116531   \n",
       "2002-01-01          95235   420806              891407   2151252   \n",
       "2003-01-01          93883   414235              859030   2154834   \n",
       "2004-01-01          95089   401470              847381   2144446   \n",
       "2005-01-01          94347   417438              862220   2155448   \n",
       "2006-01-01          92757   447403              860853   2183746   \n",
       "2007-01-01          90427   445125              855856   2176140   \n",
       "2008-01-01          90479   443574              842134   2228474   \n",
       "2009-01-01          89241   408742              812514   2203313   \n",
       "2010-01-01          85593   369089              781844   2168457   \n",
       "2011-01-01          84175   354772              752423   2185140   \n",
       "2012-01-01          85141   355051              762009   2109932   \n",
       "2013-01-01          82109   345095              726575   1931835   \n",
       "2014-01-01          84041   325802              741291   1729806   \n",
       "\n",
       "            Larceny_Theft  Vehicle_Theft  \n",
       "dt_Year                                   \n",
       "1960-01-01        1855400         328200  \n",
       "1961-01-01        1913000         336000  \n",
       "1962-01-01        2089600         366800  \n",
       "1963-01-01        2297800         408300  \n",
       "1964-01-01        2514400         472800  \n",
       "1965-01-01        2572600         496900  \n",
       "1966-01-01        2822000         561200  \n",
       "1967-01-01        3111600         659800  \n",
       "1968-01-01        3482700         783600  \n",
       "1969-01-01        3888600         878500  \n",
       "1970-01-01        4225800         928400  \n",
       "1971-01-01        4424200         948200  \n",
       "1972-01-01        4151200         887200  \n",
       "1973-01-01        4347900         928800  \n",
       "1974-01-01        5262500         977100  \n",
       "1975-01-01        5977700        1009600  \n",
       "1976-01-01        6270800         966000  \n",
       "1977-01-01        5905700         977700  \n",
       "1978-01-01        5991000        1004100  \n",
       "1979-01-01        6601000        1112800  \n",
       "1980-01-01        7136900        1131700  \n",
       "1981-01-01        7194400        1087800  \n",
       "1982-01-01        7142500        1062400  \n",
       "1983-01-01        6712800        1007900  \n",
       "1984-01-01        6591900        1032200  \n",
       "1985-01-01        6926400        1102900  \n",
       "1986-01-01        7257153        1224137  \n",
       "1987-01-01        7499900        1288674  \n",
       "1988-01-01        7705900        1432900  \n",
       "1989-01-01        7872400        1564800  \n",
       "1990-01-01        7945700        1635900  \n",
       "1991-01-01        8142200        1661700  \n",
       "1992-01-01        7915200        1610800  \n",
       "1993-01-01        7820900        1563100  \n",
       "1994-01-01        7879800        1539300  \n",
       "1995-01-01        7997700        1472400  \n",
       "1996-01-01        7904700        1394200  \n",
       "1997-01-01        7743760        1354189  \n",
       "1998-01-01        7373886        1240754  \n",
       "1999-01-01        6955520        1152075  \n",
       "2000-01-01        6971590        1160002  \n",
       "2001-01-01        7092267        1228391  \n",
       "2002-01-01        7057370        1246646  \n",
       "2003-01-01        7026802        1261226  \n",
       "2004-01-01        6937089        1237851  \n",
       "2005-01-01        6783447        1235859  \n",
       "2006-01-01        6607013        1192809  \n",
       "2007-01-01        6568572        1095769  \n",
       "2008-01-01        6588046         958629  \n",
       "2009-01-01        6338095         795652  \n",
       "2010-01-01        6204601         739565  \n",
       "2011-01-01        6151095         716508  \n",
       "2012-01-01        6168874         723186  \n",
       "2013-01-01        6018632         700294  \n",
       "2014-01-01        5858496         689527  "
      ]
     },
     "execution_count": 8,
     "metadata": {},
     "output_type": "execute_result"
    }
   ],
   "source": [
    "crime.set_index('dt_Year')"
   ]
  },
  {
   "cell_type": "markdown",
   "metadata": {},
   "source": [
    "### Step 7. Delete the Total column"
   ]
  },
  {
   "cell_type": "code",
   "execution_count": 9,
   "metadata": {
    "collapsed": false,
    "jupyter": {
     "outputs_hidden": false
    }
   },
   "outputs": [],
   "source": [
    "del crime['Total']"
   ]
  },
  {
   "cell_type": "code",
   "execution_count": 10,
   "metadata": {},
   "outputs": [
    {
     "data": {
      "text/html": [
       "<div>\n",
       "<style scoped>\n",
       "    .dataframe tbody tr th:only-of-type {\n",
       "        vertical-align: middle;\n",
       "    }\n",
       "\n",
       "    .dataframe tbody tr th {\n",
       "        vertical-align: top;\n",
       "    }\n",
       "\n",
       "    .dataframe thead th {\n",
       "        text-align: right;\n",
       "    }\n",
       "</style>\n",
       "<table border=\"1\" class=\"dataframe\">\n",
       "  <thead>\n",
       "    <tr style=\"text-align: right;\">\n",
       "      <th></th>\n",
       "      <th>Year</th>\n",
       "      <th>Population</th>\n",
       "      <th>Violent</th>\n",
       "      <th>Property</th>\n",
       "      <th>Murder</th>\n",
       "      <th>Forcible_Rape</th>\n",
       "      <th>Robbery</th>\n",
       "      <th>Aggravated_assault</th>\n",
       "      <th>Burglary</th>\n",
       "      <th>Larceny_Theft</th>\n",
       "      <th>Vehicle_Theft</th>\n",
       "      <th>dt_Year</th>\n",
       "    </tr>\n",
       "  </thead>\n",
       "  <tbody>\n",
       "    <tr>\n",
       "      <th>0</th>\n",
       "      <td>1960</td>\n",
       "      <td>179323175</td>\n",
       "      <td>288460</td>\n",
       "      <td>3095700</td>\n",
       "      <td>9110</td>\n",
       "      <td>17190</td>\n",
       "      <td>107840</td>\n",
       "      <td>154320</td>\n",
       "      <td>912100</td>\n",
       "      <td>1855400</td>\n",
       "      <td>328200</td>\n",
       "      <td>1960-01-01</td>\n",
       "    </tr>\n",
       "    <tr>\n",
       "      <th>1</th>\n",
       "      <td>1961</td>\n",
       "      <td>182992000</td>\n",
       "      <td>289390</td>\n",
       "      <td>3198600</td>\n",
       "      <td>8740</td>\n",
       "      <td>17220</td>\n",
       "      <td>106670</td>\n",
       "      <td>156760</td>\n",
       "      <td>949600</td>\n",
       "      <td>1913000</td>\n",
       "      <td>336000</td>\n",
       "      <td>1961-01-01</td>\n",
       "    </tr>\n",
       "    <tr>\n",
       "      <th>2</th>\n",
       "      <td>1962</td>\n",
       "      <td>185771000</td>\n",
       "      <td>301510</td>\n",
       "      <td>3450700</td>\n",
       "      <td>8530</td>\n",
       "      <td>17550</td>\n",
       "      <td>110860</td>\n",
       "      <td>164570</td>\n",
       "      <td>994300</td>\n",
       "      <td>2089600</td>\n",
       "      <td>366800</td>\n",
       "      <td>1962-01-01</td>\n",
       "    </tr>\n",
       "    <tr>\n",
       "      <th>3</th>\n",
       "      <td>1963</td>\n",
       "      <td>188483000</td>\n",
       "      <td>316970</td>\n",
       "      <td>3792500</td>\n",
       "      <td>8640</td>\n",
       "      <td>17650</td>\n",
       "      <td>116470</td>\n",
       "      <td>174210</td>\n",
       "      <td>1086400</td>\n",
       "      <td>2297800</td>\n",
       "      <td>408300</td>\n",
       "      <td>1963-01-01</td>\n",
       "    </tr>\n",
       "    <tr>\n",
       "      <th>4</th>\n",
       "      <td>1964</td>\n",
       "      <td>191141000</td>\n",
       "      <td>364220</td>\n",
       "      <td>4200400</td>\n",
       "      <td>9360</td>\n",
       "      <td>21420</td>\n",
       "      <td>130390</td>\n",
       "      <td>203050</td>\n",
       "      <td>1213200</td>\n",
       "      <td>2514400</td>\n",
       "      <td>472800</td>\n",
       "      <td>1964-01-01</td>\n",
       "    </tr>\n",
       "  </tbody>\n",
       "</table>\n",
       "</div>"
      ],
      "text/plain": [
       "   Year  Population  Violent  Property  Murder  Forcible_Rape  Robbery  \\\n",
       "0  1960   179323175   288460   3095700    9110          17190   107840   \n",
       "1  1961   182992000   289390   3198600    8740          17220   106670   \n",
       "2  1962   185771000   301510   3450700    8530          17550   110860   \n",
       "3  1963   188483000   316970   3792500    8640          17650   116470   \n",
       "4  1964   191141000   364220   4200400    9360          21420   130390   \n",
       "\n",
       "   Aggravated_assault  Burglary  Larceny_Theft  Vehicle_Theft    dt_Year  \n",
       "0              154320    912100        1855400         328200 1960-01-01  \n",
       "1              156760    949600        1913000         336000 1961-01-01  \n",
       "2              164570    994300        2089600         366800 1962-01-01  \n",
       "3              174210   1086400        2297800         408300 1963-01-01  \n",
       "4              203050   1213200        2514400         472800 1964-01-01  "
      ]
     },
     "execution_count": 10,
     "metadata": {},
     "output_type": "execute_result"
    }
   ],
   "source": [
    "crime.head()"
   ]
  },
  {
   "cell_type": "markdown",
   "metadata": {},
   "source": [
    "### Step 8. Group the year by decades and sum the values\n",
    "\n",
    "#### Pay attention to the Population column number, summing this column is a mistake"
   ]
  },
  {
   "cell_type": "code",
   "execution_count": 13,
   "metadata": {
    "collapsed": false,
    "jupyter": {
     "outputs_hidden": false
    },
    "scrolled": true
   },
   "outputs": [],
   "source": [
    "crime['Decade'] = (crime['Year'] // 10) * 10"
   ]
  },
  {
   "cell_type": "code",
   "execution_count": 23,
   "metadata": {},
   "outputs": [
    {
     "data": {
      "text/plain": [
       "Index(['Year', 'Population', 'Violent', 'Property', 'Murder', 'Forcible_Rape',\n",
       "       'Robbery', 'Aggravated_assault', 'Burglary', 'Larceny_Theft',\n",
       "       'Vehicle_Theft', 'dt_Year', 'Decade'],\n",
       "      dtype='object')"
      ]
     },
     "execution_count": 23,
     "metadata": {},
     "output_type": "execute_result"
    }
   ],
   "source": [
    "crime.columns"
   ]
  },
  {
   "cell_type": "code",
   "execution_count": 37,
   "metadata": {},
   "outputs": [],
   "source": [
    "gb = crime.groupby('Decade')[['Violent', 'Property', 'Murder', 'Forcible_Rape',\n",
    "       'Robbery', 'Aggravated_assault', 'Burglary', 'Larceny_Theft',\n",
    "       'Vehicle_Theft']].sum()"
   ]
  },
  {
   "cell_type": "code",
   "execution_count": 38,
   "metadata": {},
   "outputs": [],
   "source": [
    "gb['Population'] = crime.groupby('Decade')['Population'].mean()"
   ]
  },
  {
   "cell_type": "code",
   "execution_count": 40,
   "metadata": {},
   "outputs": [
    {
     "data": {
      "text/html": [
       "<div>\n",
       "<style scoped>\n",
       "    .dataframe tbody tr th:only-of-type {\n",
       "        vertical-align: middle;\n",
       "    }\n",
       "\n",
       "    .dataframe tbody tr th {\n",
       "        vertical-align: top;\n",
       "    }\n",
       "\n",
       "    .dataframe thead th {\n",
       "        text-align: right;\n",
       "    }\n",
       "</style>\n",
       "<table border=\"1\" class=\"dataframe\">\n",
       "  <thead>\n",
       "    <tr style=\"text-align: right;\">\n",
       "      <th></th>\n",
       "      <th>Violent</th>\n",
       "      <th>Property</th>\n",
       "      <th>Murder</th>\n",
       "      <th>Forcible_Rape</th>\n",
       "      <th>Robbery</th>\n",
       "      <th>Aggravated_assault</th>\n",
       "      <th>Burglary</th>\n",
       "      <th>Larceny_Theft</th>\n",
       "      <th>Vehicle_Theft</th>\n",
       "      <th>Population</th>\n",
       "    </tr>\n",
       "    <tr>\n",
       "      <th>Decade</th>\n",
       "      <th></th>\n",
       "      <th></th>\n",
       "      <th></th>\n",
       "      <th></th>\n",
       "      <th></th>\n",
       "      <th></th>\n",
       "      <th></th>\n",
       "      <th></th>\n",
       "      <th></th>\n",
       "      <th></th>\n",
       "    </tr>\n",
       "  </thead>\n",
       "  <tbody>\n",
       "    <tr>\n",
       "      <th>1960</th>\n",
       "      <td>4134930</td>\n",
       "      <td>45160900</td>\n",
       "      <td>106180</td>\n",
       "      <td>236720</td>\n",
       "      <td>1633510</td>\n",
       "      <td>2158520</td>\n",
       "      <td>13321100</td>\n",
       "      <td>26547700</td>\n",
       "      <td>5292100</td>\n",
       "      <td>191505317.5</td>\n",
       "    </tr>\n",
       "    <tr>\n",
       "      <th>1970</th>\n",
       "      <td>9607930</td>\n",
       "      <td>91383800</td>\n",
       "      <td>192230</td>\n",
       "      <td>554570</td>\n",
       "      <td>4159020</td>\n",
       "      <td>4702120</td>\n",
       "      <td>28486000</td>\n",
       "      <td>53157800</td>\n",
       "      <td>9739900</td>\n",
       "      <td>212119329.8</td>\n",
       "    </tr>\n",
       "    <tr>\n",
       "      <th>1980</th>\n",
       "      <td>14074328</td>\n",
       "      <td>117048900</td>\n",
       "      <td>206439</td>\n",
       "      <td>865639</td>\n",
       "      <td>5383109</td>\n",
       "      <td>7619130</td>\n",
       "      <td>33073494</td>\n",
       "      <td>72040253</td>\n",
       "      <td>11935411</td>\n",
       "      <td>237137006.9</td>\n",
       "    </tr>\n",
       "    <tr>\n",
       "      <th>1990</th>\n",
       "      <td>17527048</td>\n",
       "      <td>119053499</td>\n",
       "      <td>211664</td>\n",
       "      <td>998827</td>\n",
       "      <td>5748930</td>\n",
       "      <td>10568963</td>\n",
       "      <td>26750015</td>\n",
       "      <td>77679366</td>\n",
       "      <td>14624418</td>\n",
       "      <td>261282525.8</td>\n",
       "    </tr>\n",
       "    <tr>\n",
       "      <th>2000</th>\n",
       "      <td>13968056</td>\n",
       "      <td>100944369</td>\n",
       "      <td>163068</td>\n",
       "      <td>922499</td>\n",
       "      <td>4230366</td>\n",
       "      <td>8652124</td>\n",
       "      <td>21565176</td>\n",
       "      <td>67970291</td>\n",
       "      <td>11412834</td>\n",
       "      <td>294796911.7</td>\n",
       "    </tr>\n",
       "    <tr>\n",
       "      <th>2010</th>\n",
       "      <td>6072017</td>\n",
       "      <td>44095950</td>\n",
       "      <td>72867</td>\n",
       "      <td>421059</td>\n",
       "      <td>1749809</td>\n",
       "      <td>3764142</td>\n",
       "      <td>10125170</td>\n",
       "      <td>30401698</td>\n",
       "      <td>3569080</td>\n",
       "      <td>314029261.4</td>\n",
       "    </tr>\n",
       "  </tbody>\n",
       "</table>\n",
       "</div>"
      ],
      "text/plain": [
       "         Violent   Property  Murder  Forcible_Rape  Robbery  \\\n",
       "Decade                                                        \n",
       "1960     4134930   45160900  106180         236720  1633510   \n",
       "1970     9607930   91383800  192230         554570  4159020   \n",
       "1980    14074328  117048900  206439         865639  5383109   \n",
       "1990    17527048  119053499  211664         998827  5748930   \n",
       "2000    13968056  100944369  163068         922499  4230366   \n",
       "2010     6072017   44095950   72867         421059  1749809   \n",
       "\n",
       "        Aggravated_assault  Burglary  Larceny_Theft  Vehicle_Theft  \\\n",
       "Decade                                                               \n",
       "1960               2158520  13321100       26547700        5292100   \n",
       "1970               4702120  28486000       53157800        9739900   \n",
       "1980               7619130  33073494       72040253       11935411   \n",
       "1990              10568963  26750015       77679366       14624418   \n",
       "2000               8652124  21565176       67970291       11412834   \n",
       "2010               3764142  10125170       30401698        3569080   \n",
       "\n",
       "         Population  \n",
       "Decade               \n",
       "1960    191505317.5  \n",
       "1970    212119329.8  \n",
       "1980    237137006.9  \n",
       "1990    261282525.8  \n",
       "2000    294796911.7  \n",
       "2010    314029261.4  "
      ]
     },
     "execution_count": 40,
     "metadata": {},
     "output_type": "execute_result"
    }
   ],
   "source": [
    "gb"
   ]
  },
  {
   "cell_type": "markdown",
   "metadata": {},
   "source": [
    "### Step 9. What is the most dangerous decade to live in the US?"
   ]
  },
  {
   "cell_type": "code",
   "execution_count": 48,
   "metadata": {
    "collapsed": false,
    "jupyter": {
     "outputs_hidden": false
    }
   },
   "outputs": [],
   "source": [
    "gb = gb.set_index('Decade')"
   ]
  },
  {
   "cell_type": "code",
   "execution_count": 52,
   "metadata": {},
   "outputs": [],
   "source": [
    "gb['Total'] = gb.loc[:, 'Violent': 'Vehicle_Theft'].sum(axis = 1)"
   ]
  },
  {
   "cell_type": "code",
   "execution_count": 53,
   "metadata": {},
   "outputs": [
    {
     "data": {
      "text/html": [
       "<div>\n",
       "<style scoped>\n",
       "    .dataframe tbody tr th:only-of-type {\n",
       "        vertical-align: middle;\n",
       "    }\n",
       "\n",
       "    .dataframe tbody tr th {\n",
       "        vertical-align: top;\n",
       "    }\n",
       "\n",
       "    .dataframe thead th {\n",
       "        text-align: right;\n",
       "    }\n",
       "</style>\n",
       "<table border=\"1\" class=\"dataframe\">\n",
       "  <thead>\n",
       "    <tr style=\"text-align: right;\">\n",
       "      <th></th>\n",
       "      <th>Violent</th>\n",
       "      <th>Property</th>\n",
       "      <th>Murder</th>\n",
       "      <th>Forcible_Rape</th>\n",
       "      <th>Robbery</th>\n",
       "      <th>Aggravated_assault</th>\n",
       "      <th>Burglary</th>\n",
       "      <th>Larceny_Theft</th>\n",
       "      <th>Vehicle_Theft</th>\n",
       "      <th>Population</th>\n",
       "      <th>Total</th>\n",
       "    </tr>\n",
       "    <tr>\n",
       "      <th>Decade</th>\n",
       "      <th></th>\n",
       "      <th></th>\n",
       "      <th></th>\n",
       "      <th></th>\n",
       "      <th></th>\n",
       "      <th></th>\n",
       "      <th></th>\n",
       "      <th></th>\n",
       "      <th></th>\n",
       "      <th></th>\n",
       "      <th></th>\n",
       "    </tr>\n",
       "  </thead>\n",
       "  <tbody>\n",
       "    <tr>\n",
       "      <th>1960</th>\n",
       "      <td>4134930</td>\n",
       "      <td>45160900</td>\n",
       "      <td>106180</td>\n",
       "      <td>236720</td>\n",
       "      <td>1633510</td>\n",
       "      <td>2158520</td>\n",
       "      <td>13321100</td>\n",
       "      <td>26547700</td>\n",
       "      <td>5292100</td>\n",
       "      <td>191505317.5</td>\n",
       "      <td>98591660</td>\n",
       "    </tr>\n",
       "    <tr>\n",
       "      <th>1970</th>\n",
       "      <td>9607930</td>\n",
       "      <td>91383800</td>\n",
       "      <td>192230</td>\n",
       "      <td>554570</td>\n",
       "      <td>4159020</td>\n",
       "      <td>4702120</td>\n",
       "      <td>28486000</td>\n",
       "      <td>53157800</td>\n",
       "      <td>9739900</td>\n",
       "      <td>212119329.8</td>\n",
       "      <td>201983370</td>\n",
       "    </tr>\n",
       "    <tr>\n",
       "      <th>1980</th>\n",
       "      <td>14074328</td>\n",
       "      <td>117048900</td>\n",
       "      <td>206439</td>\n",
       "      <td>865639</td>\n",
       "      <td>5383109</td>\n",
       "      <td>7619130</td>\n",
       "      <td>33073494</td>\n",
       "      <td>72040253</td>\n",
       "      <td>11935411</td>\n",
       "      <td>237137006.9</td>\n",
       "      <td>262246703</td>\n",
       "    </tr>\n",
       "    <tr>\n",
       "      <th>1990</th>\n",
       "      <td>17527048</td>\n",
       "      <td>119053499</td>\n",
       "      <td>211664</td>\n",
       "      <td>998827</td>\n",
       "      <td>5748930</td>\n",
       "      <td>10568963</td>\n",
       "      <td>26750015</td>\n",
       "      <td>77679366</td>\n",
       "      <td>14624418</td>\n",
       "      <td>261282525.8</td>\n",
       "      <td>273162730</td>\n",
       "    </tr>\n",
       "    <tr>\n",
       "      <th>2000</th>\n",
       "      <td>13968056</td>\n",
       "      <td>100944369</td>\n",
       "      <td>163068</td>\n",
       "      <td>922499</td>\n",
       "      <td>4230366</td>\n",
       "      <td>8652124</td>\n",
       "      <td>21565176</td>\n",
       "      <td>67970291</td>\n",
       "      <td>11412834</td>\n",
       "      <td>294796911.7</td>\n",
       "      <td>229828783</td>\n",
       "    </tr>\n",
       "    <tr>\n",
       "      <th>2010</th>\n",
       "      <td>6072017</td>\n",
       "      <td>44095950</td>\n",
       "      <td>72867</td>\n",
       "      <td>421059</td>\n",
       "      <td>1749809</td>\n",
       "      <td>3764142</td>\n",
       "      <td>10125170</td>\n",
       "      <td>30401698</td>\n",
       "      <td>3569080</td>\n",
       "      <td>314029261.4</td>\n",
       "      <td>100271792</td>\n",
       "    </tr>\n",
       "  </tbody>\n",
       "</table>\n",
       "</div>"
      ],
      "text/plain": [
       "         Violent   Property  Murder  Forcible_Rape  Robbery  \\\n",
       "Decade                                                        \n",
       "1960     4134930   45160900  106180         236720  1633510   \n",
       "1970     9607930   91383800  192230         554570  4159020   \n",
       "1980    14074328  117048900  206439         865639  5383109   \n",
       "1990    17527048  119053499  211664         998827  5748930   \n",
       "2000    13968056  100944369  163068         922499  4230366   \n",
       "2010     6072017   44095950   72867         421059  1749809   \n",
       "\n",
       "        Aggravated_assault  Burglary  Larceny_Theft  Vehicle_Theft  \\\n",
       "Decade                                                               \n",
       "1960               2158520  13321100       26547700        5292100   \n",
       "1970               4702120  28486000       53157800        9739900   \n",
       "1980               7619130  33073494       72040253       11935411   \n",
       "1990              10568963  26750015       77679366       14624418   \n",
       "2000               8652124  21565176       67970291       11412834   \n",
       "2010               3764142  10125170       30401698        3569080   \n",
       "\n",
       "         Population      Total  \n",
       "Decade                          \n",
       "1960    191505317.5   98591660  \n",
       "1970    212119329.8  201983370  \n",
       "1980    237137006.9  262246703  \n",
       "1990    261282525.8  273162730  \n",
       "2000    294796911.7  229828783  \n",
       "2010    314029261.4  100271792  "
      ]
     },
     "execution_count": 53,
     "metadata": {},
     "output_type": "execute_result"
    }
   ],
   "source": [
    "gb"
   ]
  },
  {
   "cell_type": "code",
   "execution_count": 54,
   "metadata": {},
   "outputs": [
    {
     "data": {
      "text/plain": [
       "Decade\n",
       "1960    0.514825\n",
       "1970    0.952216\n",
       "1980    1.105887\n",
       "1990    1.045469\n",
       "2000    0.779617\n",
       "2010    0.319307\n",
       "dtype: float64"
      ]
     },
     "execution_count": 54,
     "metadata": {},
     "output_type": "execute_result"
    }
   ],
   "source": [
    "gb['Total'] / gb['Population']"
   ]
  },
  {
   "cell_type": "code",
   "execution_count": 55,
   "metadata": {},
   "outputs": [
    {
     "data": {
      "text/plain": [
       "Violent               1990\n",
       "Property              1990\n",
       "Murder                1990\n",
       "Forcible_Rape         1990\n",
       "Robbery               1990\n",
       "Aggravated_assault    1990\n",
       "Burglary              1980\n",
       "Larceny_Theft         1990\n",
       "Vehicle_Theft         1990\n",
       "Population            2010\n",
       "Total                 1990\n",
       "dtype: int64"
      ]
     },
     "execution_count": 55,
     "metadata": {},
     "output_type": "execute_result"
    }
   ],
   "source": [
    "gb.idxmax()"
   ]
  },
  {
   "cell_type": "code",
   "execution_count": 60,
   "metadata": {},
   "outputs": [
    {
     "data": {
      "application/vnd.plotly.v1+json": {
       "config": {
        "linkText": "Export to plot.ly",
        "plotlyServerURL": "https://plot.ly",
        "showLink": true
       },
       "data": [
        {
         "line": {
          "color": "rgba(255, 153, 51, 1.0)",
          "dash": "solid",
          "shape": "linear",
          "width": 1.3
         },
         "mode": "lines",
         "name": "Violent",
         "text": "",
         "type": "scatter",
         "x": [
          1960,
          1970,
          1980,
          1990,
          2000,
          2010
         ],
         "y": [
          4134930,
          9607930,
          14074328,
          17527048,
          13968056,
          6072017
         ]
        },
        {
         "line": {
          "color": "rgba(55, 128, 191, 1.0)",
          "dash": "solid",
          "shape": "linear",
          "width": 1.3
         },
         "mode": "lines",
         "name": "Property",
         "text": "",
         "type": "scatter",
         "x": [
          1960,
          1970,
          1980,
          1990,
          2000,
          2010
         ],
         "y": [
          45160900,
          91383800,
          117048900,
          119053499,
          100944369,
          44095950
         ]
        },
        {
         "line": {
          "color": "rgba(50, 171, 96, 1.0)",
          "dash": "solid",
          "shape": "linear",
          "width": 1.3
         },
         "mode": "lines",
         "name": "Murder",
         "text": "",
         "type": "scatter",
         "x": [
          1960,
          1970,
          1980,
          1990,
          2000,
          2010
         ],
         "y": [
          106180,
          192230,
          206439,
          211664,
          163068,
          72867
         ]
        },
        {
         "line": {
          "color": "rgba(128, 0, 128, 1.0)",
          "dash": "solid",
          "shape": "linear",
          "width": 1.3
         },
         "mode": "lines",
         "name": "Forcible_Rape",
         "text": "",
         "type": "scatter",
         "x": [
          1960,
          1970,
          1980,
          1990,
          2000,
          2010
         ],
         "y": [
          236720,
          554570,
          865639,
          998827,
          922499,
          421059
         ]
        },
        {
         "line": {
          "color": "rgba(219, 64, 82, 1.0)",
          "dash": "solid",
          "shape": "linear",
          "width": 1.3
         },
         "mode": "lines",
         "name": "Robbery",
         "text": "",
         "type": "scatter",
         "x": [
          1960,
          1970,
          1980,
          1990,
          2000,
          2010
         ],
         "y": [
          1633510,
          4159020,
          5383109,
          5748930,
          4230366,
          1749809
         ]
        },
        {
         "line": {
          "color": "rgba(0, 128, 128, 1.0)",
          "dash": "solid",
          "shape": "linear",
          "width": 1.3
         },
         "mode": "lines",
         "name": "Aggravated_assault",
         "text": "",
         "type": "scatter",
         "x": [
          1960,
          1970,
          1980,
          1990,
          2000,
          2010
         ],
         "y": [
          2158520,
          4702120,
          7619130,
          10568963,
          8652124,
          3764142
         ]
        },
        {
         "line": {
          "color": "rgba(255, 255, 51, 1.0)",
          "dash": "solid",
          "shape": "linear",
          "width": 1.3
         },
         "mode": "lines",
         "name": "Burglary",
         "text": "",
         "type": "scatter",
         "x": [
          1960,
          1970,
          1980,
          1990,
          2000,
          2010
         ],
         "y": [
          13321100,
          28486000,
          33073494,
          26750015,
          21565176,
          10125170
         ]
        },
        {
         "line": {
          "color": "rgba(128, 128, 0, 1.0)",
          "dash": "solid",
          "shape": "linear",
          "width": 1.3
         },
         "mode": "lines",
         "name": "Larceny_Theft",
         "text": "",
         "type": "scatter",
         "x": [
          1960,
          1970,
          1980,
          1990,
          2000,
          2010
         ],
         "y": [
          26547700,
          53157800,
          72040253,
          77679366,
          67970291,
          30401698
         ]
        },
        {
         "line": {
          "color": "rgba(251, 128, 114, 1.0)",
          "dash": "solid",
          "shape": "linear",
          "width": 1.3
         },
         "mode": "lines",
         "name": "Vehicle_Theft",
         "text": "",
         "type": "scatter",
         "x": [
          1960,
          1970,
          1980,
          1990,
          2000,
          2010
         ],
         "y": [
          5292100,
          9739900,
          11935411,
          14624418,
          11412834,
          3569080
         ]
        },
        {
         "line": {
          "color": "rgba(128, 177, 211, 1.0)",
          "dash": "solid",
          "shape": "linear",
          "width": 1.3
         },
         "mode": "lines",
         "name": "Population",
         "text": "",
         "type": "scatter",
         "visible": "legendonly",
         "x": [
          1960,
          1970,
          1980,
          1990,
          2000,
          2010
         ],
         "y": [
          191505317.5,
          212119329.8,
          237137006.9,
          261282525.8,
          294796911.7,
          314029261.4
         ]
        },
        {
         "line": {
          "color": "rgba(128, 177, 211, 0.8999999999999999)",
          "dash": "solid",
          "shape": "linear",
          "width": 1.3
         },
         "mode": "lines",
         "name": "Total",
         "text": "",
         "type": "scatter",
         "visible": "legendonly",
         "x": [
          1960,
          1970,
          1980,
          1990,
          2000,
          2010
         ],
         "y": [
          98591660,
          201983370,
          262246703,
          273162730,
          229828783,
          100271792
         ]
        }
       ],
       "layout": {
        "autosize": true,
        "legend": {
         "bgcolor": "#F5F6F9",
         "font": {
          "color": "#4D5663"
         }
        },
        "paper_bgcolor": "#F5F6F9",
        "plot_bgcolor": "#F5F6F9",
        "template": {
         "data": {
          "bar": [
           {
            "error_x": {
             "color": "#2a3f5f"
            },
            "error_y": {
             "color": "#2a3f5f"
            },
            "marker": {
             "line": {
              "color": "#E5ECF6",
              "width": 0.5
             }
            },
            "type": "bar"
           }
          ],
          "barpolar": [
           {
            "marker": {
             "line": {
              "color": "#E5ECF6",
              "width": 0.5
             }
            },
            "type": "barpolar"
           }
          ],
          "carpet": [
           {
            "aaxis": {
             "endlinecolor": "#2a3f5f",
             "gridcolor": "white",
             "linecolor": "white",
             "minorgridcolor": "white",
             "startlinecolor": "#2a3f5f"
            },
            "baxis": {
             "endlinecolor": "#2a3f5f",
             "gridcolor": "white",
             "linecolor": "white",
             "minorgridcolor": "white",
             "startlinecolor": "#2a3f5f"
            },
            "type": "carpet"
           }
          ],
          "choropleth": [
           {
            "colorbar": {
             "outlinewidth": 0,
             "ticks": ""
            },
            "type": "choropleth"
           }
          ],
          "contour": [
           {
            "colorbar": {
             "outlinewidth": 0,
             "ticks": ""
            },
            "colorscale": [
             [
              0,
              "#0d0887"
             ],
             [
              0.1111111111111111,
              "#46039f"
             ],
             [
              0.2222222222222222,
              "#7201a8"
             ],
             [
              0.3333333333333333,
              "#9c179e"
             ],
             [
              0.4444444444444444,
              "#bd3786"
             ],
             [
              0.5555555555555556,
              "#d8576b"
             ],
             [
              0.6666666666666666,
              "#ed7953"
             ],
             [
              0.7777777777777778,
              "#fb9f3a"
             ],
             [
              0.8888888888888888,
              "#fdca26"
             ],
             [
              1,
              "#f0f921"
             ]
            ],
            "type": "contour"
           }
          ],
          "contourcarpet": [
           {
            "colorbar": {
             "outlinewidth": 0,
             "ticks": ""
            },
            "type": "contourcarpet"
           }
          ],
          "heatmap": [
           {
            "colorbar": {
             "outlinewidth": 0,
             "ticks": ""
            },
            "colorscale": [
             [
              0,
              "#0d0887"
             ],
             [
              0.1111111111111111,
              "#46039f"
             ],
             [
              0.2222222222222222,
              "#7201a8"
             ],
             [
              0.3333333333333333,
              "#9c179e"
             ],
             [
              0.4444444444444444,
              "#bd3786"
             ],
             [
              0.5555555555555556,
              "#d8576b"
             ],
             [
              0.6666666666666666,
              "#ed7953"
             ],
             [
              0.7777777777777778,
              "#fb9f3a"
             ],
             [
              0.8888888888888888,
              "#fdca26"
             ],
             [
              1,
              "#f0f921"
             ]
            ],
            "type": "heatmap"
           }
          ],
          "heatmapgl": [
           {
            "colorbar": {
             "outlinewidth": 0,
             "ticks": ""
            },
            "colorscale": [
             [
              0,
              "#0d0887"
             ],
             [
              0.1111111111111111,
              "#46039f"
             ],
             [
              0.2222222222222222,
              "#7201a8"
             ],
             [
              0.3333333333333333,
              "#9c179e"
             ],
             [
              0.4444444444444444,
              "#bd3786"
             ],
             [
              0.5555555555555556,
              "#d8576b"
             ],
             [
              0.6666666666666666,
              "#ed7953"
             ],
             [
              0.7777777777777778,
              "#fb9f3a"
             ],
             [
              0.8888888888888888,
              "#fdca26"
             ],
             [
              1,
              "#f0f921"
             ]
            ],
            "type": "heatmapgl"
           }
          ],
          "histogram": [
           {
            "marker": {
             "colorbar": {
              "outlinewidth": 0,
              "ticks": ""
             }
            },
            "type": "histogram"
           }
          ],
          "histogram2d": [
           {
            "colorbar": {
             "outlinewidth": 0,
             "ticks": ""
            },
            "colorscale": [
             [
              0,
              "#0d0887"
             ],
             [
              0.1111111111111111,
              "#46039f"
             ],
             [
              0.2222222222222222,
              "#7201a8"
             ],
             [
              0.3333333333333333,
              "#9c179e"
             ],
             [
              0.4444444444444444,
              "#bd3786"
             ],
             [
              0.5555555555555556,
              "#d8576b"
             ],
             [
              0.6666666666666666,
              "#ed7953"
             ],
             [
              0.7777777777777778,
              "#fb9f3a"
             ],
             [
              0.8888888888888888,
              "#fdca26"
             ],
             [
              1,
              "#f0f921"
             ]
            ],
            "type": "histogram2d"
           }
          ],
          "histogram2dcontour": [
           {
            "colorbar": {
             "outlinewidth": 0,
             "ticks": ""
            },
            "colorscale": [
             [
              0,
              "#0d0887"
             ],
             [
              0.1111111111111111,
              "#46039f"
             ],
             [
              0.2222222222222222,
              "#7201a8"
             ],
             [
              0.3333333333333333,
              "#9c179e"
             ],
             [
              0.4444444444444444,
              "#bd3786"
             ],
             [
              0.5555555555555556,
              "#d8576b"
             ],
             [
              0.6666666666666666,
              "#ed7953"
             ],
             [
              0.7777777777777778,
              "#fb9f3a"
             ],
             [
              0.8888888888888888,
              "#fdca26"
             ],
             [
              1,
              "#f0f921"
             ]
            ],
            "type": "histogram2dcontour"
           }
          ],
          "mesh3d": [
           {
            "colorbar": {
             "outlinewidth": 0,
             "ticks": ""
            },
            "type": "mesh3d"
           }
          ],
          "parcoords": [
           {
            "line": {
             "colorbar": {
              "outlinewidth": 0,
              "ticks": ""
             }
            },
            "type": "parcoords"
           }
          ],
          "pie": [
           {
            "automargin": true,
            "type": "pie"
           }
          ],
          "scatter": [
           {
            "marker": {
             "colorbar": {
              "outlinewidth": 0,
              "ticks": ""
             }
            },
            "type": "scatter"
           }
          ],
          "scatter3d": [
           {
            "line": {
             "colorbar": {
              "outlinewidth": 0,
              "ticks": ""
             }
            },
            "marker": {
             "colorbar": {
              "outlinewidth": 0,
              "ticks": ""
             }
            },
            "type": "scatter3d"
           }
          ],
          "scattercarpet": [
           {
            "marker": {
             "colorbar": {
              "outlinewidth": 0,
              "ticks": ""
             }
            },
            "type": "scattercarpet"
           }
          ],
          "scattergeo": [
           {
            "marker": {
             "colorbar": {
              "outlinewidth": 0,
              "ticks": ""
             }
            },
            "type": "scattergeo"
           }
          ],
          "scattergl": [
           {
            "marker": {
             "colorbar": {
              "outlinewidth": 0,
              "ticks": ""
             }
            },
            "type": "scattergl"
           }
          ],
          "scattermapbox": [
           {
            "marker": {
             "colorbar": {
              "outlinewidth": 0,
              "ticks": ""
             }
            },
            "type": "scattermapbox"
           }
          ],
          "scatterpolar": [
           {
            "marker": {
             "colorbar": {
              "outlinewidth": 0,
              "ticks": ""
             }
            },
            "type": "scatterpolar"
           }
          ],
          "scatterpolargl": [
           {
            "marker": {
             "colorbar": {
              "outlinewidth": 0,
              "ticks": ""
             }
            },
            "type": "scatterpolargl"
           }
          ],
          "scatterternary": [
           {
            "marker": {
             "colorbar": {
              "outlinewidth": 0,
              "ticks": ""
             }
            },
            "type": "scatterternary"
           }
          ],
          "surface": [
           {
            "colorbar": {
             "outlinewidth": 0,
             "ticks": ""
            },
            "colorscale": [
             [
              0,
              "#0d0887"
             ],
             [
              0.1111111111111111,
              "#46039f"
             ],
             [
              0.2222222222222222,
              "#7201a8"
             ],
             [
              0.3333333333333333,
              "#9c179e"
             ],
             [
              0.4444444444444444,
              "#bd3786"
             ],
             [
              0.5555555555555556,
              "#d8576b"
             ],
             [
              0.6666666666666666,
              "#ed7953"
             ],
             [
              0.7777777777777778,
              "#fb9f3a"
             ],
             [
              0.8888888888888888,
              "#fdca26"
             ],
             [
              1,
              "#f0f921"
             ]
            ],
            "type": "surface"
           }
          ],
          "table": [
           {
            "cells": {
             "fill": {
              "color": "#EBF0F8"
             },
             "line": {
              "color": "white"
             }
            },
            "header": {
             "fill": {
              "color": "#C8D4E3"
             },
             "line": {
              "color": "white"
             }
            },
            "type": "table"
           }
          ]
         },
         "layout": {
          "annotationdefaults": {
           "arrowcolor": "#2a3f5f",
           "arrowhead": 0,
           "arrowwidth": 1
          },
          "coloraxis": {
           "colorbar": {
            "outlinewidth": 0,
            "ticks": ""
           }
          },
          "colorscale": {
           "diverging": [
            [
             0,
             "#8e0152"
            ],
            [
             0.1,
             "#c51b7d"
            ],
            [
             0.2,
             "#de77ae"
            ],
            [
             0.3,
             "#f1b6da"
            ],
            [
             0.4,
             "#fde0ef"
            ],
            [
             0.5,
             "#f7f7f7"
            ],
            [
             0.6,
             "#e6f5d0"
            ],
            [
             0.7,
             "#b8e186"
            ],
            [
             0.8,
             "#7fbc41"
            ],
            [
             0.9,
             "#4d9221"
            ],
            [
             1,
             "#276419"
            ]
           ],
           "sequential": [
            [
             0,
             "#0d0887"
            ],
            [
             0.1111111111111111,
             "#46039f"
            ],
            [
             0.2222222222222222,
             "#7201a8"
            ],
            [
             0.3333333333333333,
             "#9c179e"
            ],
            [
             0.4444444444444444,
             "#bd3786"
            ],
            [
             0.5555555555555556,
             "#d8576b"
            ],
            [
             0.6666666666666666,
             "#ed7953"
            ],
            [
             0.7777777777777778,
             "#fb9f3a"
            ],
            [
             0.8888888888888888,
             "#fdca26"
            ],
            [
             1,
             "#f0f921"
            ]
           ],
           "sequentialminus": [
            [
             0,
             "#0d0887"
            ],
            [
             0.1111111111111111,
             "#46039f"
            ],
            [
             0.2222222222222222,
             "#7201a8"
            ],
            [
             0.3333333333333333,
             "#9c179e"
            ],
            [
             0.4444444444444444,
             "#bd3786"
            ],
            [
             0.5555555555555556,
             "#d8576b"
            ],
            [
             0.6666666666666666,
             "#ed7953"
            ],
            [
             0.7777777777777778,
             "#fb9f3a"
            ],
            [
             0.8888888888888888,
             "#fdca26"
            ],
            [
             1,
             "#f0f921"
            ]
           ]
          },
          "colorway": [
           "#636efa",
           "#EF553B",
           "#00cc96",
           "#ab63fa",
           "#FFA15A",
           "#19d3f3",
           "#FF6692",
           "#B6E880",
           "#FF97FF",
           "#FECB52"
          ],
          "font": {
           "color": "#2a3f5f"
          },
          "geo": {
           "bgcolor": "white",
           "lakecolor": "white",
           "landcolor": "#E5ECF6",
           "showlakes": true,
           "showland": true,
           "subunitcolor": "white"
          },
          "hoverlabel": {
           "align": "left"
          },
          "hovermode": "closest",
          "mapbox": {
           "style": "light"
          },
          "paper_bgcolor": "white",
          "plot_bgcolor": "#E5ECF6",
          "polar": {
           "angularaxis": {
            "gridcolor": "white",
            "linecolor": "white",
            "ticks": ""
           },
           "bgcolor": "#E5ECF6",
           "radialaxis": {
            "gridcolor": "white",
            "linecolor": "white",
            "ticks": ""
           }
          },
          "scene": {
           "xaxis": {
            "backgroundcolor": "#E5ECF6",
            "gridcolor": "white",
            "gridwidth": 2,
            "linecolor": "white",
            "showbackground": true,
            "ticks": "",
            "zerolinecolor": "white"
           },
           "yaxis": {
            "backgroundcolor": "#E5ECF6",
            "gridcolor": "white",
            "gridwidth": 2,
            "linecolor": "white",
            "showbackground": true,
            "ticks": "",
            "zerolinecolor": "white"
           },
           "zaxis": {
            "backgroundcolor": "#E5ECF6",
            "gridcolor": "white",
            "gridwidth": 2,
            "linecolor": "white",
            "showbackground": true,
            "ticks": "",
            "zerolinecolor": "white"
           }
          },
          "shapedefaults": {
           "line": {
            "color": "#2a3f5f"
           }
          },
          "ternary": {
           "aaxis": {
            "gridcolor": "white",
            "linecolor": "white",
            "ticks": ""
           },
           "baxis": {
            "gridcolor": "white",
            "linecolor": "white",
            "ticks": ""
           },
           "bgcolor": "#E5ECF6",
           "caxis": {
            "gridcolor": "white",
            "linecolor": "white",
            "ticks": ""
           }
          },
          "title": {
           "x": 0.05
          },
          "xaxis": {
           "automargin": true,
           "gridcolor": "white",
           "linecolor": "white",
           "ticks": "",
           "title": {
            "standoff": 15
           },
           "zerolinecolor": "white",
           "zerolinewidth": 2
          },
          "yaxis": {
           "automargin": true,
           "gridcolor": "white",
           "linecolor": "white",
           "ticks": "",
           "title": {
            "standoff": 15
           },
           "zerolinecolor": "white",
           "zerolinewidth": 2
          }
         }
        },
        "title": {
         "font": {
          "color": "#4D5663"
         }
        },
        "xaxis": {
         "autorange": true,
         "gridcolor": "#E1E5ED",
         "range": [
          1960,
          2010
         ],
         "showgrid": true,
         "tickfont": {
          "color": "#4D5663"
         },
         "title": {
          "font": {
           "color": "#4D5663"
          },
          "text": ""
         },
         "type": "linear",
         "zerolinecolor": "#E1E5ED"
        },
        "yaxis": {
         "autorange": true,
         "gridcolor": "#E1E5ED",
         "range": [
          -6537168.111111111,
          125663534.1111111
         ],
         "showgrid": true,
         "tickfont": {
          "color": "#4D5663"
         },
         "title": {
          "font": {
           "color": "#4D5663"
          },
          "text": ""
         },
         "type": "linear",
         "zerolinecolor": "#E1E5ED"
        }
       }
      },
      "image/png": "[encoded data removed]",
      "text/html": [
       "<div>\n",
       "        \n",
       "        \n",
       "            <div id=\"ffdb482c-8663-49b0-9f28-99bcefb29501\" class=\"plotly-graph-div\" style=\"height:525px; width:100%;\"></div>\n",
       "            <script type=\"text/javascript\">\n",
       "                require([\"plotly\"], function(Plotly) {\n",
       "                    window.PLOTLYENV=window.PLOTLYENV || {};\n",
       "                    window.PLOTLYENV.BASE_URL='https://plot.ly';\n",
       "                    \n",
       "                if (document.getElementById(\"ffdb482c-8663-49b0-9f28-99bcefb29501\")) {\n",
       "                    Plotly.newPlot(\n",
       "                        'ffdb482c-8663-49b0-9f28-99bcefb29501',\n",
       "                        [{\"line\": {\"color\": \"rgba(255, 153, 51, 1.0)\", \"dash\": \"solid\", \"shape\": \"linear\", \"width\": 1.3}, \"mode\": \"lines\", \"name\": \"Violent\", \"text\": \"\", \"type\": \"scatter\", \"x\": [1960, 1970, 1980, 1990, 2000, 2010], \"y\": [4134930, 9607930, 14074328, 17527048, 13968056, 6072017]}, {\"line\": {\"color\": \"rgba(55, 128, 191, 1.0)\", \"dash\": \"solid\", \"shape\": \"linear\", \"width\": 1.3}, \"mode\": \"lines\", \"name\": \"Property\", \"text\": \"\", \"type\": \"scatter\", \"x\": [1960, 1970, 1980, 1990, 2000, 2010], \"y\": [45160900, 91383800, 117048900, 119053499, 100944369, 44095950]}, {\"line\": {\"color\": \"rgba(50, 171, 96, 1.0)\", \"dash\": \"solid\", \"shape\": \"linear\", \"width\": 1.3}, \"mode\": \"lines\", \"name\": \"Murder\", \"text\": \"\", \"type\": \"scatter\", \"x\": [1960, 1970, 1980, 1990, 2000, 2010], \"y\": [106180, 192230, 206439, 211664, 163068, 72867]}, {\"line\": {\"color\": \"rgba(128, 0, 128, 1.0)\", \"dash\": \"solid\", \"shape\": \"linear\", \"width\": 1.3}, \"mode\": \"lines\", \"name\": \"Forcible_Rape\", \"text\": \"\", \"type\": \"scatter\", \"x\": [1960, 1970, 1980, 1990, 2000, 2010], \"y\": [236720, 554570, 865639, 998827, 922499, 421059]}, {\"line\": {\"color\": \"rgba(219, 64, 82, 1.0)\", \"dash\": \"solid\", \"shape\": \"linear\", \"width\": 1.3}, \"mode\": \"lines\", \"name\": \"Robbery\", \"text\": \"\", \"type\": \"scatter\", \"x\": [1960, 1970, 1980, 1990, 2000, 2010], \"y\": [1633510, 4159020, 5383109, 5748930, 4230366, 1749809]}, {\"line\": {\"color\": \"rgba(0, 128, 128, 1.0)\", \"dash\": \"solid\", \"shape\": \"linear\", \"width\": 1.3}, \"mode\": \"lines\", \"name\": \"Aggravated_assault\", \"text\": \"\", \"type\": \"scatter\", \"x\": [1960, 1970, 1980, 1990, 2000, 2010], \"y\": [2158520, 4702120, 7619130, 10568963, 8652124, 3764142]}, {\"line\": {\"color\": \"rgba(255, 255, 51, 1.0)\", \"dash\": \"solid\", \"shape\": \"linear\", \"width\": 1.3}, \"mode\": \"lines\", \"name\": \"Burglary\", \"text\": \"\", \"type\": \"scatter\", \"x\": [1960, 1970, 1980, 1990, 2000, 2010], \"y\": [13321100, 28486000, 33073494, 26750015, 21565176, 10125170]}, {\"line\": {\"color\": \"rgba(128, 128, 0, 1.0)\", \"dash\": \"solid\", \"shape\": \"linear\", \"width\": 1.3}, \"mode\": \"lines\", \"name\": \"Larceny_Theft\", \"text\": \"\", \"type\": \"scatter\", \"x\": [1960, 1970, 1980, 1990, 2000, 2010], \"y\": [26547700, 53157800, 72040253, 77679366, 67970291, 30401698]}, {\"line\": {\"color\": \"rgba(251, 128, 114, 1.0)\", \"dash\": \"solid\", \"shape\": \"linear\", \"width\": 1.3}, \"mode\": \"lines\", \"name\": \"Vehicle_Theft\", \"text\": \"\", \"type\": \"scatter\", \"x\": [1960, 1970, 1980, 1990, 2000, 2010], \"y\": [5292100, 9739900, 11935411, 14624418, 11412834, 3569080]}, {\"line\": {\"color\": \"rgba(128, 177, 211, 1.0)\", \"dash\": \"solid\", \"shape\": \"linear\", \"width\": 1.3}, \"mode\": \"lines\", \"name\": \"Population\", \"text\": \"\", \"type\": \"scatter\", \"x\": [1960, 1970, 1980, 1990, 2000, 2010], \"y\": [191505317.5, 212119329.8, 237137006.9, 261282525.8, 294796911.7, 314029261.4]}, {\"line\": {\"color\": \"rgba(128, 177, 211, 0.8999999999999999)\", \"dash\": \"solid\", \"shape\": \"linear\", \"width\": 1.3}, \"mode\": \"lines\", \"name\": \"Total\", \"text\": \"\", \"type\": \"scatter\", \"x\": [1960, 1970, 1980, 1990, 2000, 2010], \"y\": [98591660, 201983370, 262246703, 273162730, 229828783, 100271792]}],\n",
       "                        {\"legend\": {\"bgcolor\": \"#F5F6F9\", \"font\": {\"color\": \"#4D5663\"}}, \"paper_bgcolor\": \"#F5F6F9\", \"plot_bgcolor\": \"#F5F6F9\", \"template\": {\"data\": {\"bar\": [{\"error_x\": {\"color\": \"#2a3f5f\"}, \"error_y\": {\"color\": \"#2a3f5f\"}, \"marker\": {\"line\": {\"color\": \"#E5ECF6\", \"width\": 0.5}}, \"type\": \"bar\"}], \"barpolar\": [{\"marker\": {\"line\": {\"color\": \"#E5ECF6\", \"width\": 0.5}}, \"type\": \"barpolar\"}], \"carpet\": [{\"aaxis\": {\"endlinecolor\": \"#2a3f5f\", \"gridcolor\": \"white\", \"linecolor\": \"white\", \"minorgridcolor\": \"white\", \"startlinecolor\": \"#2a3f5f\"}, \"baxis\": {\"endlinecolor\": \"#2a3f5f\", \"gridcolor\": \"white\", \"linecolor\": \"white\", \"minorgridcolor\": \"white\", \"startlinecolor\": \"#2a3f5f\"}, \"type\": \"carpet\"}], \"choropleth\": [{\"colorbar\": {\"outlinewidth\": 0, \"ticks\": \"\"}, \"type\": \"choropleth\"}], \"contour\": [{\"colorbar\": {\"outlinewidth\": 0, \"ticks\": \"\"}, \"colorscale\": [[0.0, \"#0d0887\"], [0.1111111111111111, \"#46039f\"], [0.2222222222222222, \"#7201a8\"], [0.3333333333333333, \"#9c179e\"], [0.4444444444444444, \"#bd3786\"], [0.5555555555555556, \"#d8576b\"], [0.6666666666666666, \"#ed7953\"], [0.7777777777777778, \"#fb9f3a\"], [0.8888888888888888, \"#fdca26\"], [1.0, \"#f0f921\"]], \"type\": \"contour\"}], \"contourcarpet\": [{\"colorbar\": {\"outlinewidth\": 0, \"ticks\": \"\"}, \"type\": \"contourcarpet\"}], \"heatmap\": [{\"colorbar\": {\"outlinewidth\": 0, \"ticks\": \"\"}, \"colorscale\": [[0.0, \"#0d0887\"], [0.1111111111111111, \"#46039f\"], [0.2222222222222222, \"#7201a8\"], [0.3333333333333333, \"#9c179e\"], [0.4444444444444444, \"#bd3786\"], [0.5555555555555556, \"#d8576b\"], [0.6666666666666666, \"#ed7953\"], [0.7777777777777778, \"#fb9f3a\"], [0.8888888888888888, \"#fdca26\"], [1.0, \"#f0f921\"]], \"type\": \"heatmap\"}], \"heatmapgl\": [{\"colorbar\": {\"outlinewidth\": 0, \"ticks\": \"\"}, \"colorscale\": [[0.0, \"#0d0887\"], [0.1111111111111111, \"#46039f\"], [0.2222222222222222, \"#7201a8\"], [0.3333333333333333, \"#9c179e\"], [0.4444444444444444, \"#bd3786\"], [0.5555555555555556, \"#d8576b\"], [0.6666666666666666, \"#ed7953\"], [0.7777777777777778, \"#fb9f3a\"], [0.8888888888888888, \"#fdca26\"], [1.0, \"#f0f921\"]], \"type\": \"heatmapgl\"}], \"histogram\": [{\"marker\": {\"colorbar\": {\"outlinewidth\": 0, \"ticks\": \"\"}}, \"type\": \"histogram\"}], \"histogram2d\": [{\"colorbar\": {\"outlinewidth\": 0, \"ticks\": \"\"}, \"colorscale\": [[0.0, \"#0d0887\"], [0.1111111111111111, \"#46039f\"], [0.2222222222222222, \"#7201a8\"], [0.3333333333333333, \"#9c179e\"], [0.4444444444444444, \"#bd3786\"], [0.5555555555555556, \"#d8576b\"], [0.6666666666666666, \"#ed7953\"], [0.7777777777777778, \"#fb9f3a\"], [0.8888888888888888, \"#fdca26\"], [1.0, \"#f0f921\"]], \"type\": \"histogram2d\"}], \"histogram2dcontour\": [{\"colorbar\": {\"outlinewidth\": 0, \"ticks\": \"\"}, \"colorscale\": [[0.0, \"#0d0887\"], [0.1111111111111111, \"#46039f\"], [0.2222222222222222, \"#7201a8\"], [0.3333333333333333, \"#9c179e\"], [0.4444444444444444, \"#bd3786\"], [0.5555555555555556, \"#d8576b\"], [0.6666666666666666, \"#ed7953\"], [0.7777777777777778, \"#fb9f3a\"], [0.8888888888888888, \"#fdca26\"], [1.0, \"#f0f921\"]], \"type\": \"histogram2dcontour\"}], \"mesh3d\": [{\"colorbar\": {\"outlinewidth\": 0, \"ticks\": \"\"}, \"type\": \"mesh3d\"}], \"parcoords\": [{\"line\": {\"colorbar\": {\"outlinewidth\": 0, \"ticks\": \"\"}}, \"type\": \"parcoords\"}], \"pie\": [{\"automargin\": true, \"type\": \"pie\"}], \"scatter\": [{\"marker\": {\"colorbar\": {\"outlinewidth\": 0, \"ticks\": \"\"}}, \"type\": \"scatter\"}], \"scatter3d\": [{\"line\": {\"colorbar\": {\"outlinewidth\": 0, \"ticks\": \"\"}}, \"marker\": {\"colorbar\": {\"outlinewidth\": 0, \"ticks\": \"\"}}, \"type\": \"scatter3d\"}], \"scattercarpet\": [{\"marker\": {\"colorbar\": {\"outlinewidth\": 0, \"ticks\": \"\"}}, \"type\": \"scattercarpet\"}], \"scattergeo\": [{\"marker\": {\"colorbar\": {\"outlinewidth\": 0, \"ticks\": \"\"}}, \"type\": \"scattergeo\"}], \"scattergl\": [{\"marker\": {\"colorbar\": {\"outlinewidth\": 0, \"ticks\": \"\"}}, \"type\": \"scattergl\"}], \"scattermapbox\": [{\"marker\": {\"colorbar\": {\"outlinewidth\": 0, \"ticks\": \"\"}}, \"type\": \"scattermapbox\"}], \"scatterpolar\": [{\"marker\": {\"colorbar\": {\"outlinewidth\": 0, \"ticks\": \"\"}}, \"type\": \"scatterpolar\"}], \"scatterpolargl\": [{\"marker\": {\"colorbar\": {\"outlinewidth\": 0, \"ticks\": \"\"}}, \"type\": \"scatterpolargl\"}], \"scatterternary\": [{\"marker\": {\"colorbar\": {\"outlinewidth\": 0, \"ticks\": \"\"}}, \"type\": \"scatterternary\"}], \"surface\": [{\"colorbar\": {\"outlinewidth\": 0, \"ticks\": \"\"}, \"colorscale\": [[0.0, \"#0d0887\"], [0.1111111111111111, \"#46039f\"], [0.2222222222222222, \"#7201a8\"], [0.3333333333333333, \"#9c179e\"], [0.4444444444444444, \"#bd3786\"], [0.5555555555555556, \"#d8576b\"], [0.6666666666666666, \"#ed7953\"], [0.7777777777777778, \"#fb9f3a\"], [0.8888888888888888, \"#fdca26\"], [1.0, \"#f0f921\"]], \"type\": \"surface\"}], \"table\": [{\"cells\": {\"fill\": {\"color\": \"#EBF0F8\"}, \"line\": {\"color\": \"white\"}}, \"header\": {\"fill\": {\"color\": \"#C8D4E3\"}, \"line\": {\"color\": \"white\"}}, \"type\": \"table\"}]}, \"layout\": {\"annotationdefaults\": {\"arrowcolor\": \"#2a3f5f\", \"arrowhead\": 0, \"arrowwidth\": 1}, \"coloraxis\": {\"colorbar\": {\"outlinewidth\": 0, \"ticks\": \"\"}}, \"colorscale\": {\"diverging\": [[0, \"#8e0152\"], [0.1, \"#c51b7d\"], [0.2, \"#de77ae\"], [0.3, \"#f1b6da\"], [0.4, \"#fde0ef\"], [0.5, \"#f7f7f7\"], [0.6, \"#e6f5d0\"], [0.7, \"#b8e186\"], [0.8, \"#7fbc41\"], [0.9, \"#4d9221\"], [1, \"#276419\"]], \"sequential\": [[0.0, \"#0d0887\"], [0.1111111111111111, \"#46039f\"], [0.2222222222222222, \"#7201a8\"], [0.3333333333333333, \"#9c179e\"], [0.4444444444444444, \"#bd3786\"], [0.5555555555555556, \"#d8576b\"], [0.6666666666666666, \"#ed7953\"], [0.7777777777777778, \"#fb9f3a\"], [0.8888888888888888, \"#fdca26\"], [1.0, \"#f0f921\"]], \"sequentialminus\": [[0.0, \"#0d0887\"], [0.1111111111111111, \"#46039f\"], [0.2222222222222222, \"#7201a8\"], [0.3333333333333333, \"#9c179e\"], [0.4444444444444444, \"#bd3786\"], [0.5555555555555556, \"#d8576b\"], [0.6666666666666666, \"#ed7953\"], [0.7777777777777778, \"#fb9f3a\"], [0.8888888888888888, \"#fdca26\"], [1.0, \"#f0f921\"]]}, \"colorway\": [\"#636efa\", \"#EF553B\", \"#00cc96\", \"#ab63fa\", \"#FFA15A\", \"#19d3f3\", \"#FF6692\", \"#B6E880\", \"#FF97FF\", \"#FECB52\"], \"font\": {\"color\": \"#2a3f5f\"}, \"geo\": {\"bgcolor\": \"white\", \"lakecolor\": \"white\", \"landcolor\": \"#E5ECF6\", \"showlakes\": true, \"showland\": true, \"subunitcolor\": \"white\"}, \"hoverlabel\": {\"align\": \"left\"}, \"hovermode\": \"closest\", \"mapbox\": {\"style\": \"light\"}, \"paper_bgcolor\": \"white\", \"plot_bgcolor\": \"#E5ECF6\", \"polar\": {\"angularaxis\": {\"gridcolor\": \"white\", \"linecolor\": \"white\", \"ticks\": \"\"}, \"bgcolor\": \"#E5ECF6\", \"radialaxis\": {\"gridcolor\": \"white\", \"linecolor\": \"white\", \"ticks\": \"\"}}, \"scene\": {\"xaxis\": {\"backgroundcolor\": \"#E5ECF6\", \"gridcolor\": \"white\", \"gridwidth\": 2, \"linecolor\": \"white\", \"showbackground\": true, \"ticks\": \"\", \"zerolinecolor\": \"white\"}, \"yaxis\": {\"backgroundcolor\": \"#E5ECF6\", \"gridcolor\": \"white\", \"gridwidth\": 2, \"linecolor\": \"white\", \"showbackground\": true, \"ticks\": \"\", \"zerolinecolor\": \"white\"}, \"zaxis\": {\"backgroundcolor\": \"#E5ECF6\", \"gridcolor\": \"white\", \"gridwidth\": 2, \"linecolor\": \"white\", \"showbackground\": true, \"ticks\": \"\", \"zerolinecolor\": \"white\"}}, \"shapedefaults\": {\"line\": {\"color\": \"#2a3f5f\"}}, \"ternary\": {\"aaxis\": {\"gridcolor\": \"white\", \"linecolor\": \"white\", \"ticks\": \"\"}, \"baxis\": {\"gridcolor\": \"white\", \"linecolor\": \"white\", \"ticks\": \"\"}, \"bgcolor\": \"#E5ECF6\", \"caxis\": {\"gridcolor\": \"white\", \"linecolor\": \"white\", \"ticks\": \"\"}}, \"title\": {\"x\": 0.05}, \"xaxis\": {\"automargin\": true, \"gridcolor\": \"white\", \"linecolor\": \"white\", \"ticks\": \"\", \"title\": {\"standoff\": 15}, \"zerolinecolor\": \"white\", \"zerolinewidth\": 2}, \"yaxis\": {\"automargin\": true, \"gridcolor\": \"white\", \"linecolor\": \"white\", \"ticks\": \"\", \"title\": {\"standoff\": 15}, \"zerolinecolor\": \"white\", \"zerolinewidth\": 2}}}, \"title\": {\"font\": {\"color\": \"#4D5663\"}}, \"xaxis\": {\"gridcolor\": \"#E1E5ED\", \"showgrid\": true, \"tickfont\": {\"color\": \"#4D5663\"}, \"title\": {\"font\": {\"color\": \"#4D5663\"}, \"text\": \"\"}, \"zerolinecolor\": \"#E1E5ED\"}, \"yaxis\": {\"gridcolor\": \"#E1E5ED\", \"showgrid\": true, \"tickfont\": {\"color\": \"#4D5663\"}, \"title\": {\"font\": {\"color\": \"#4D5663\"}, \"text\": \"\"}, \"zerolinecolor\": \"#E1E5ED\"}},\n",
       "                        {\"showLink\": true, \"linkText\": \"Export to plot.ly\", \"plotlyServerURL\": \"https://plot.ly\", \"responsive\": true}\n",
       "                    ).then(function(){\n",
       "                            \n",
       "var gd = document.getElementById('ffdb482c-8663-49b0-9f28-99bcefb29501');\n",
       "var x = new MutationObserver(function (mutations, observer) {{\n",
       "        var display = window.getComputedStyle(gd).display;\n",
       "        if (!display || display === 'none') {{\n",
       "            console.log([gd, 'removed!']);\n",
       "            Plotly.purge(gd);\n",
       "            observer.disconnect();\n",
       "        }}\n",
       "}});\n",
       "\n",
       "// Listen for the removal of the full notebook cells\n",
       "var notebookContainer = gd.closest('#notebook-container');\n",
       "if (notebookContainer) {{\n",
       "    x.observe(notebookContainer, {childList: true});\n",
       "}}\n",
       "\n",
       "// Listen for the clearing of the current output cell\n",
       "var outputEl = gd.closest('.output');\n",
       "if (outputEl) {{\n",
       "    x.observe(outputEl, {childList: true});\n",
       "}}\n",
       "\n",
       "                        })\n",
       "                };\n",
       "                });\n",
       "            </script>\n",
       "        </div>"
      ]
     },
     "metadata": {},
     "output_type": "display_data"
    }
   ],
   "source": [
    "gb.iplot()"
   ]
  },
  {
   "cell_type": "code",
   "execution_count": null,
   "metadata": {},
   "outputs": [],
   "source": []
  }
 ],
 "metadata": {
  "anaconda-cloud": {},
  "kernelspec": {
   "display_name": "Python 3",
   "language": "python",
   "name": "python3"
  },
  "language_info": {
   "codemirror_mode": {
    "name": "ipython",
    "version": 3
   },
   "file_extension": ".py",
   "mimetype": "text/x-python",
   "name": "python",
   "nbconvert_exporter": "python",
   "pygments_lexer": "ipython3",
   "version": "3.7.6"
  }
 },
 "nbformat": 4,
 "nbformat_minor": 4
}
